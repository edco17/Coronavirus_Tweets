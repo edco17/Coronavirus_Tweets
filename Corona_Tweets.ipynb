{
  "nbformat": 4,
  "nbformat_minor": 0,
  "metadata": {
    "kernelspec": {
      "display_name": "Python 3",
      "language": "python",
      "name": "python3"
    },
    "language_info": {
      "codemirror_mode": {
        "name": "ipython",
        "version": 3
      },
      "file_extension": ".py",
      "mimetype": "text/x-python",
      "name": "python",
      "nbconvert_exporter": "python",
      "pygments_lexer": "ipython3",
      "version": "3.7.1"
    },
    "colab": {
      "name": "Corona_Tweets.ipynb",
      "provenance": [],
      "collapsed_sections": []
    },
    "accelerator": "GPU"
  },
  "cells": [
    {
      "cell_type": "markdown",
      "metadata": {
        "id": "gSNRUpTW7HhT"
      },
      "source": [
        "# Coronavirus Tweets"
      ]
    },
    {
      "cell_type": "markdown",
      "metadata": {
        "id": "aMayHQiIDN0Z"
      },
      "source": [
        "## Install"
      ]
    },
    {
      "cell_type": "code",
      "metadata": {
        "id": "GcO2ofbEDRJC",
        "outputId": "bdbc237e-b198-4865-9055-f8ff34ceeaa0",
        "colab": {
          "base_uri": "https://localhost:8080/"
        }
      },
      "source": [
        "pip install unidecode"
      ],
      "execution_count": 1,
      "outputs": [
        {
          "output_type": "stream",
          "text": [
            "Requirement already satisfied: unidecode in /usr/local/lib/python3.6/dist-packages (1.1.1)\n"
          ],
          "name": "stdout"
        }
      ]
    },
    {
      "cell_type": "markdown",
      "metadata": {
        "id": "nboN_TRB7HhU"
      },
      "source": [
        "## Libraries"
      ]
    },
    {
      "cell_type": "code",
      "metadata": {
        "id": "aEQDIh4J7HhU"
      },
      "source": [
        "import os\n",
        "from pydrive.auth import GoogleAuth\n",
        "from pydrive.drive import GoogleDrive\n",
        "from google.colab import auth\n",
        "from oauth2client.client import GoogleCredentials\n",
        "import os\n",
        "\n",
        "import numpy as np\n",
        "import pandas as pd\n",
        "import matplotlib.pyplot as plt\n",
        "import sklearn\n",
        "import keras\n",
        "from keras.preprocessing.text import Tokenizer\n",
        "from keras.preprocessing.sequence import pad_sequences\n",
        "from keras.models import Sequential\n",
        "from keras.layers import Embedding, Flatten, Dense, SimpleRNN, LSTM, GRU, Dropout\n",
        "from sklearn.metrics import confusion_matrix\n",
        "from seaborn import heatmap\n",
        "from sklearn.metrics import classification_report\n",
        "\n",
        "from unidecode import unidecode\n",
        "from nltk.corpus import stopwords\n",
        "from nltk import FreqDist\n",
        "from PIL import Image\n",
        "import re\n",
        "import stylecloud\n",
        "import unicodedata\n",
        "import nltk"
      ],
      "execution_count": 2,
      "outputs": []
    },
    {
      "cell_type": "code",
      "metadata": {
        "id": "Q5NXY4woScdV",
        "outputId": "d9fd6288-de4b-44f1-e256-4f14ff359137",
        "colab": {
          "base_uri": "https://localhost:8080/"
        }
      },
      "source": [
        "# Stop words download\n",
        "nltk.download('stopwords')"
      ],
      "execution_count": 3,
      "outputs": [
        {
          "output_type": "stream",
          "text": [
            "[nltk_data] Downloading package stopwords to /root/nltk_data...\n",
            "[nltk_data]   Package stopwords is already up-to-date!\n"
          ],
          "name": "stdout"
        },
        {
          "output_type": "execute_result",
          "data": {
            "text/plain": [
              "True"
            ]
          },
          "metadata": {
            "tags": []
          },
          "execution_count": 3
        }
      ]
    },
    {
      "cell_type": "markdown",
      "metadata": {
        "id": "ETaupWYO7s04"
      },
      "source": [
        "## Google\n"
      ]
    },
    {
      "cell_type": "code",
      "metadata": {
        "id": "zj4_ErFd7mKu"
      },
      "source": [
        "auth.authenticate_user()\n",
        "gauth = GoogleAuth()\n",
        "gauth.credentials = GoogleCredentials.get_application_default()\n",
        "drive = GoogleDrive(gauth)\n",
        "\n",
        "myfile = drive.CreateFile({'id': '1Lyfy9yKVWscKYf4d8MJojHO1BwUMz65A'})\n",
        "myfile.GetContentFile('Corona_NLP_train.csv')"
      ],
      "execution_count": 4,
      "outputs": []
    },
    {
      "cell_type": "markdown",
      "metadata": {
        "id": "ccZm0rSn7HhZ"
      },
      "source": [
        "## Dataset"
      ]
    },
    {
      "cell_type": "code",
      "metadata": {
        "id": "xrmy5U6Y7Hha",
        "outputId": "0399ad6a-ed8f-430a-d43a-b22095c55773",
        "colab": {
          "base_uri": "https://localhost:8080/",
          "height": 204
        }
      },
      "source": [
        "df = pd.read_csv('Corona_NLP_train.csv', encoding = 'latin')\n",
        "df.head()"
      ],
      "execution_count": 5,
      "outputs": [
        {
          "output_type": "execute_result",
          "data": {
            "text/html": [
              "<div>\n",
              "<style scoped>\n",
              "    .dataframe tbody tr th:only-of-type {\n",
              "        vertical-align: middle;\n",
              "    }\n",
              "\n",
              "    .dataframe tbody tr th {\n",
              "        vertical-align: top;\n",
              "    }\n",
              "\n",
              "    .dataframe thead th {\n",
              "        text-align: right;\n",
              "    }\n",
              "</style>\n",
              "<table border=\"1\" class=\"dataframe\">\n",
              "  <thead>\n",
              "    <tr style=\"text-align: right;\">\n",
              "      <th></th>\n",
              "      <th>UserName</th>\n",
              "      <th>ScreenName</th>\n",
              "      <th>Location</th>\n",
              "      <th>TweetAt</th>\n",
              "      <th>OriginalTweet</th>\n",
              "      <th>Sentiment</th>\n",
              "    </tr>\n",
              "  </thead>\n",
              "  <tbody>\n",
              "    <tr>\n",
              "      <th>0</th>\n",
              "      <td>3799</td>\n",
              "      <td>48751</td>\n",
              "      <td>London</td>\n",
              "      <td>16-03-2020</td>\n",
              "      <td>@MeNyrbie @Phil_Gahan @Chrisitv https://t.co/i...</td>\n",
              "      <td>Neutral</td>\n",
              "    </tr>\n",
              "    <tr>\n",
              "      <th>1</th>\n",
              "      <td>3800</td>\n",
              "      <td>48752</td>\n",
              "      <td>UK</td>\n",
              "      <td>16-03-2020</td>\n",
              "      <td>advice Talk to your neighbours family to excha...</td>\n",
              "      <td>Positive</td>\n",
              "    </tr>\n",
              "    <tr>\n",
              "      <th>2</th>\n",
              "      <td>3801</td>\n",
              "      <td>48753</td>\n",
              "      <td>Vagabonds</td>\n",
              "      <td>16-03-2020</td>\n",
              "      <td>Coronavirus Australia: Woolworths to give elde...</td>\n",
              "      <td>Positive</td>\n",
              "    </tr>\n",
              "    <tr>\n",
              "      <th>3</th>\n",
              "      <td>3802</td>\n",
              "      <td>48754</td>\n",
              "      <td>NaN</td>\n",
              "      <td>16-03-2020</td>\n",
              "      <td>My food stock is not the only one which is emp...</td>\n",
              "      <td>Positive</td>\n",
              "    </tr>\n",
              "    <tr>\n",
              "      <th>4</th>\n",
              "      <td>3803</td>\n",
              "      <td>48755</td>\n",
              "      <td>NaN</td>\n",
              "      <td>16-03-2020</td>\n",
              "      <td>Me, ready to go at supermarket during the #COV...</td>\n",
              "      <td>Extremely Negative</td>\n",
              "    </tr>\n",
              "  </tbody>\n",
              "</table>\n",
              "</div>"
            ],
            "text/plain": [
              "   UserName  ...           Sentiment\n",
              "0      3799  ...             Neutral\n",
              "1      3800  ...            Positive\n",
              "2      3801  ...            Positive\n",
              "3      3802  ...            Positive\n",
              "4      3803  ...  Extremely Negative\n",
              "\n",
              "[5 rows x 6 columns]"
            ]
          },
          "metadata": {
            "tags": []
          },
          "execution_count": 5
        }
      ]
    },
    {
      "cell_type": "code",
      "metadata": {
        "id": "vQDikPiD7Hhd",
        "outputId": "3da2d1f9-401e-406a-d71c-ad79345eb069",
        "colab": {
          "base_uri": "https://localhost:8080/"
        }
      },
      "source": [
        "df.info()"
      ],
      "execution_count": 6,
      "outputs": [
        {
          "output_type": "stream",
          "text": [
            "<class 'pandas.core.frame.DataFrame'>\n",
            "RangeIndex: 41157 entries, 0 to 41156\n",
            "Data columns (total 6 columns):\n",
            " #   Column         Non-Null Count  Dtype \n",
            "---  ------         --------------  ----- \n",
            " 0   UserName       41157 non-null  int64 \n",
            " 1   ScreenName     41157 non-null  int64 \n",
            " 2   Location       32567 non-null  object\n",
            " 3   TweetAt        41157 non-null  object\n",
            " 4   OriginalTweet  41157 non-null  object\n",
            " 5   Sentiment      41157 non-null  object\n",
            "dtypes: int64(2), object(4)\n",
            "memory usage: 1.9+ MB\n"
          ],
          "name": "stdout"
        }
      ]
    },
    {
      "cell_type": "code",
      "metadata": {
        "id": "rIo-x0lp7Hhh"
      },
      "source": [
        "df[\"Day\"] = [i.day for i in pd.to_datetime(df[\"TweetAt\"])]\n",
        "df[\"Month\"] = [i.month for i in pd.to_datetime(df[\"TweetAt\"])]\n",
        "df.drop(columns = [\"TweetAt\"], inplace = True)"
      ],
      "execution_count": 7,
      "outputs": []
    },
    {
      "cell_type": "markdown",
      "metadata": {
        "id": "Lz0G2Of07Hhk"
      },
      "source": [
        "_Year will be eliminated because of all tweets being from 2020_"
      ]
    },
    {
      "cell_type": "markdown",
      "metadata": {
        "id": "fg5JL58W7Hhk"
      },
      "source": [
        "## Data Visualization"
      ]
    },
    {
      "cell_type": "code",
      "metadata": {
        "id": "zIlU8k_Y7Hhl",
        "outputId": "4bd4f277-a68a-446f-9e4e-4a80fa61e019",
        "colab": {
          "base_uri": "https://localhost:8080/",
          "height": 336
        }
      },
      "source": [
        "plt.figure(1, figsize=(10, 5))\n",
        "plt.hist(df.Month, log = True, bins = 12)\n",
        "plt.title(\"Tweet's per Month Logarithmic Scale\")\n",
        "plt.show()"
      ],
      "execution_count": 8,
      "outputs": [
        {
          "output_type": "display_data",
          "data": {
            "image/png": "[encoded data removed]",
            "text/plain": [
              "<Figure size 720x360 with 1 Axes>"
            ]
          },
          "metadata": {
            "tags": [],
            "needs_background": "light"
          }
        }
      ]
    },
    {
      "cell_type": "markdown",
      "metadata": {
        "id": "AetMucyW7Hhp"
      },
      "source": [
        "_The number of tweets in march is so much larger than any other month, this is caused because in frebruary 29th the first person died of Coronavirus in the USA_"
      ]
    },
    {
      "cell_type": "code",
      "metadata": {
        "scrolled": true,
        "id": "FUUP_aVe7Hhq",
        "outputId": "5683a3b7-eceb-47b6-d81c-b78f52ec35b8",
        "colab": {
          "base_uri": "https://localhost:8080/",
          "height": 336
        }
      },
      "source": [
        "plt.figure(1, figsize=(10, 5))\n",
        "plt.hist(df.Day, bins = 30)\n",
        "plt.title(\"Tweet's per Day Logarithmic Scale\")\n",
        "plt.show()"
      ],
      "execution_count": 9,
      "outputs": [
        {
          "output_type": "display_data",
          "data": {
            "image/png": "[encoded data removed]",
            "text/plain": [
              "<Figure size 720x360 with 1 Axes>"
            ]
          },
          "metadata": {
            "tags": [],
            "needs_background": "light"
          }
        }
      ]
    },
    {
      "cell_type": "markdown",
      "metadata": {
        "id": "ikVtC3Bl7Hht"
      },
      "source": [
        "_The number of tweets began to increase in march 13, this day president Trump declared a national emergency. Also there were more tweets than usual the 25 and 26 or march, this is caused by the United States leading the world in confirmed cases. And in april the 2nd cases topped a million, and millions lost their jobs._"
      ]
    },
    {
      "cell_type": "code",
      "metadata": {
        "id": "--E3Av4n7Hhu",
        "outputId": "b633586d-3241-40ce-e6b9-891545a7b690",
        "colab": {
          "base_uri": "https://localhost:8080/",
          "height": 336
        }
      },
      "source": [
        "plt.figure(1, figsize=(10, 5))\n",
        "plt.barh(df.Sentiment.value_counts().index, df.Sentiment.value_counts().values, \n",
        "        color = 'red')\n",
        "plt.title(\"Number of tweets per Sentiment\")\n",
        "plt.show()"
      ],
      "execution_count": 10,
      "outputs": [
        {
          "output_type": "display_data",
          "data": {
            "image/png": "[encoded data removed]",
            "text/plain": [
              "<Figure size 720x360 with 1 Axes>"
            ]
          },
          "metadata": {
            "tags": [],
            "needs_background": "light"
          }
        }
      ]
    },
    {
      "cell_type": "markdown",
      "metadata": {
        "id": "14CI6qPb7Hhx"
      },
      "source": [
        "_The chart shows, that most of the tweets are positive. This may be correct, and eanglish speakers have good sentiments with the pandemic, or there is a bias in the tweet selection_"
      ]
    },
    {
      "cell_type": "markdown",
      "metadata": {
        "id": "j2wz_wbq7Hhy"
      },
      "source": [
        "## EDA"
      ]
    },
    {
      "cell_type": "code",
      "metadata": {
        "id": "Y1O9TZts7Hhy",
        "outputId": "cf9e21bf-7e21-48a7-996c-f837ca4d20a9",
        "colab": {
          "base_uri": "https://localhost:8080/",
          "height": 204
        }
      },
      "source": [
        "# Length of tweets\n",
        "df[\"Len_Tweet\"] = [len(x) for x in df.OriginalTweet]\n",
        "df.head()"
      ],
      "execution_count": 11,
      "outputs": [
        {
          "output_type": "execute_result",
          "data": {
            "text/html": [
              "<div>\n",
              "<style scoped>\n",
              "    .dataframe tbody tr th:only-of-type {\n",
              "        vertical-align: middle;\n",
              "    }\n",
              "\n",
              "    .dataframe tbody tr th {\n",
              "        vertical-align: top;\n",
              "    }\n",
              "\n",
              "    .dataframe thead th {\n",
              "        text-align: right;\n",
              "    }\n",
              "</style>\n",
              "<table border=\"1\" class=\"dataframe\">\n",
              "  <thead>\n",
              "    <tr style=\"text-align: right;\">\n",
              "      <th></th>\n",
              "      <th>UserName</th>\n",
              "      <th>ScreenName</th>\n",
              "      <th>Location</th>\n",
              "      <th>OriginalTweet</th>\n",
              "      <th>Sentiment</th>\n",
              "      <th>Day</th>\n",
              "      <th>Month</th>\n",
              "      <th>Len_Tweet</th>\n",
              "    </tr>\n",
              "  </thead>\n",
              "  <tbody>\n",
              "    <tr>\n",
              "      <th>0</th>\n",
              "      <td>3799</td>\n",
              "      <td>48751</td>\n",
              "      <td>London</td>\n",
              "      <td>@MeNyrbie @Phil_Gahan @Chrisitv https://t.co/i...</td>\n",
              "      <td>Neutral</td>\n",
              "      <td>16</td>\n",
              "      <td>3</td>\n",
              "      <td>111</td>\n",
              "    </tr>\n",
              "    <tr>\n",
              "      <th>1</th>\n",
              "      <td>3800</td>\n",
              "      <td>48752</td>\n",
              "      <td>UK</td>\n",
              "      <td>advice Talk to your neighbours family to excha...</td>\n",
              "      <td>Positive</td>\n",
              "      <td>16</td>\n",
              "      <td>3</td>\n",
              "      <td>237</td>\n",
              "    </tr>\n",
              "    <tr>\n",
              "      <th>2</th>\n",
              "      <td>3801</td>\n",
              "      <td>48753</td>\n",
              "      <td>Vagabonds</td>\n",
              "      <td>Coronavirus Australia: Woolworths to give elde...</td>\n",
              "      <td>Positive</td>\n",
              "      <td>16</td>\n",
              "      <td>3</td>\n",
              "      <td>131</td>\n",
              "    </tr>\n",
              "    <tr>\n",
              "      <th>3</th>\n",
              "      <td>3802</td>\n",
              "      <td>48754</td>\n",
              "      <td>NaN</td>\n",
              "      <td>My food stock is not the only one which is emp...</td>\n",
              "      <td>Positive</td>\n",
              "      <td>16</td>\n",
              "      <td>3</td>\n",
              "      <td>306</td>\n",
              "    </tr>\n",
              "    <tr>\n",
              "      <th>4</th>\n",
              "      <td>3803</td>\n",
              "      <td>48755</td>\n",
              "      <td>NaN</td>\n",
              "      <td>Me, ready to go at supermarket during the #COV...</td>\n",
              "      <td>Extremely Negative</td>\n",
              "      <td>16</td>\n",
              "      <td>3</td>\n",
              "      <td>310</td>\n",
              "    </tr>\n",
              "  </tbody>\n",
              "</table>\n",
              "</div>"
            ],
            "text/plain": [
              "   UserName  ScreenName   Location  ... Day Month  Len_Tweet\n",
              "0      3799       48751     London  ...  16     3        111\n",
              "1      3800       48752         UK  ...  16     3        237\n",
              "2      3801       48753  Vagabonds  ...  16     3        131\n",
              "3      3802       48754        NaN  ...  16     3        306\n",
              "4      3803       48755        NaN  ...  16     3        310\n",
              "\n",
              "[5 rows x 8 columns]"
            ]
          },
          "metadata": {
            "tags": []
          },
          "execution_count": 11
        }
      ]
    },
    {
      "cell_type": "code",
      "metadata": {
        "id": "KEGogcjt7Hh1",
        "outputId": "4c1963da-98c3-4a4f-f3e4-2c9ac8e54891",
        "colab": {
          "base_uri": "https://localhost:8080/",
          "height": 452
        }
      },
      "source": [
        "df.pivot_table(values=\"OriginalTweet\", index = \"Month\", aggfunc=\"count\")"
      ],
      "execution_count": 12,
      "outputs": [
        {
          "output_type": "execute_result",
          "data": {
            "text/html": [
              "<div>\n",
              "<style scoped>\n",
              "    .dataframe tbody tr th:only-of-type {\n",
              "        vertical-align: middle;\n",
              "    }\n",
              "\n",
              "    .dataframe tbody tr th {\n",
              "        vertical-align: top;\n",
              "    }\n",
              "\n",
              "    .dataframe thead th {\n",
              "        text-align: right;\n",
              "    }\n",
              "</style>\n",
              "<table border=\"1\" class=\"dataframe\">\n",
              "  <thead>\n",
              "    <tr style=\"text-align: right;\">\n",
              "      <th></th>\n",
              "      <th>OriginalTweet</th>\n",
              "    </tr>\n",
              "    <tr>\n",
              "      <th>Month</th>\n",
              "      <th></th>\n",
              "    </tr>\n",
              "  </thead>\n",
              "  <tbody>\n",
              "    <tr>\n",
              "      <th>1</th>\n",
              "      <td>630</td>\n",
              "    </tr>\n",
              "    <tr>\n",
              "      <th>2</th>\n",
              "      <td>954</td>\n",
              "    </tr>\n",
              "    <tr>\n",
              "      <th>3</th>\n",
              "      <td>26309</td>\n",
              "    </tr>\n",
              "    <tr>\n",
              "      <th>4</th>\n",
              "      <td>2479</td>\n",
              "    </tr>\n",
              "    <tr>\n",
              "      <th>5</th>\n",
              "      <td>1131</td>\n",
              "    </tr>\n",
              "    <tr>\n",
              "      <th>6</th>\n",
              "      <td>1742</td>\n",
              "    </tr>\n",
              "    <tr>\n",
              "      <th>7</th>\n",
              "      <td>1843</td>\n",
              "    </tr>\n",
              "    <tr>\n",
              "      <th>8</th>\n",
              "      <td>1881</td>\n",
              "    </tr>\n",
              "    <tr>\n",
              "      <th>9</th>\n",
              "      <td>1471</td>\n",
              "    </tr>\n",
              "    <tr>\n",
              "      <th>10</th>\n",
              "      <td>1005</td>\n",
              "    </tr>\n",
              "    <tr>\n",
              "      <th>11</th>\n",
              "      <td>909</td>\n",
              "    </tr>\n",
              "    <tr>\n",
              "      <th>12</th>\n",
              "      <td>803</td>\n",
              "    </tr>\n",
              "  </tbody>\n",
              "</table>\n",
              "</div>"
            ],
            "text/plain": [
              "       OriginalTweet\n",
              "Month               \n",
              "1                630\n",
              "2                954\n",
              "3              26309\n",
              "4               2479\n",
              "5               1131\n",
              "6               1742\n",
              "7               1843\n",
              "8               1881\n",
              "9               1471\n",
              "10              1005\n",
              "11               909\n",
              "12               803"
            ]
          },
          "metadata": {
            "tags": []
          },
          "execution_count": 12
        }
      ]
    },
    {
      "cell_type": "code",
      "metadata": {
        "id": "ZM9uP7eE7Hh5",
        "outputId": "95d93329-af8c-49f3-bd08-f978b83b14f2",
        "colab": {
          "base_uri": "https://localhost:8080/",
          "height": 235
        }
      },
      "source": [
        "df.pivot_table(values=\"OriginalTweet\", index = \"Sentiment\", aggfunc=\"count\")"
      ],
      "execution_count": 13,
      "outputs": [
        {
          "output_type": "execute_result",
          "data": {
            "text/html": [
              "<div>\n",
              "<style scoped>\n",
              "    .dataframe tbody tr th:only-of-type {\n",
              "        vertical-align: middle;\n",
              "    }\n",
              "\n",
              "    .dataframe tbody tr th {\n",
              "        vertical-align: top;\n",
              "    }\n",
              "\n",
              "    .dataframe thead th {\n",
              "        text-align: right;\n",
              "    }\n",
              "</style>\n",
              "<table border=\"1\" class=\"dataframe\">\n",
              "  <thead>\n",
              "    <tr style=\"text-align: right;\">\n",
              "      <th></th>\n",
              "      <th>OriginalTweet</th>\n",
              "    </tr>\n",
              "    <tr>\n",
              "      <th>Sentiment</th>\n",
              "      <th></th>\n",
              "    </tr>\n",
              "  </thead>\n",
              "  <tbody>\n",
              "    <tr>\n",
              "      <th>Extremely Negative</th>\n",
              "      <td>5481</td>\n",
              "    </tr>\n",
              "    <tr>\n",
              "      <th>Extremely Positive</th>\n",
              "      <td>6624</td>\n",
              "    </tr>\n",
              "    <tr>\n",
              "      <th>Negative</th>\n",
              "      <td>9917</td>\n",
              "    </tr>\n",
              "    <tr>\n",
              "      <th>Neutral</th>\n",
              "      <td>7713</td>\n",
              "    </tr>\n",
              "    <tr>\n",
              "      <th>Positive</th>\n",
              "      <td>11422</td>\n",
              "    </tr>\n",
              "  </tbody>\n",
              "</table>\n",
              "</div>"
            ],
            "text/plain": [
              "                    OriginalTweet\n",
              "Sentiment                        \n",
              "Extremely Negative           5481\n",
              "Extremely Positive           6624\n",
              "Negative                     9917\n",
              "Neutral                      7713\n",
              "Positive                    11422"
            ]
          },
          "metadata": {
            "tags": []
          },
          "execution_count": 13
        }
      ]
    },
    {
      "cell_type": "code",
      "metadata": {
        "id": "eZ0M9NFO7Hh8",
        "outputId": "aeb7d8ed-e164-4efa-80af-fc531ee2f25a",
        "colab": {
          "base_uri": "https://localhost:8080/",
          "height": 297
        }
      },
      "source": [
        "df.describe()[:][[\"Day\", \"Month\", \"Len_Tweet\"]]"
      ],
      "execution_count": 14,
      "outputs": [
        {
          "output_type": "execute_result",
          "data": {
            "text/html": [
              "<div>\n",
              "<style scoped>\n",
              "    .dataframe tbody tr th:only-of-type {\n",
              "        vertical-align: middle;\n",
              "    }\n",
              "\n",
              "    .dataframe tbody tr th {\n",
              "        vertical-align: top;\n",
              "    }\n",
              "\n",
              "    .dataframe thead th {\n",
              "        text-align: right;\n",
              "    }\n",
              "</style>\n",
              "<table border=\"1\" class=\"dataframe\">\n",
              "  <thead>\n",
              "    <tr style=\"text-align: right;\">\n",
              "      <th></th>\n",
              "      <th>Day</th>\n",
              "      <th>Month</th>\n",
              "      <th>Len_Tweet</th>\n",
              "    </tr>\n",
              "  </thead>\n",
              "  <tbody>\n",
              "    <tr>\n",
              "      <th>count</th>\n",
              "      <td>41157.000000</td>\n",
              "      <td>41157.000000</td>\n",
              "      <td>41157.000000</td>\n",
              "    </tr>\n",
              "    <tr>\n",
              "      <th>mean</th>\n",
              "      <td>15.080399</td>\n",
              "      <td>4.333673</td>\n",
              "      <td>204.200160</td>\n",
              "    </tr>\n",
              "    <tr>\n",
              "      <th>std</th>\n",
              "      <td>8.460537</td>\n",
              "      <td>2.488591</td>\n",
              "      <td>68.655129</td>\n",
              "    </tr>\n",
              "    <tr>\n",
              "      <th>min</th>\n",
              "      <td>4.000000</td>\n",
              "      <td>1.000000</td>\n",
              "      <td>11.000000</td>\n",
              "    </tr>\n",
              "    <tr>\n",
              "      <th>25%</th>\n",
              "      <td>4.000000</td>\n",
              "      <td>3.000000</td>\n",
              "      <td>151.000000</td>\n",
              "    </tr>\n",
              "    <tr>\n",
              "      <th>50%</th>\n",
              "      <td>18.000000</td>\n",
              "      <td>3.000000</td>\n",
              "      <td>215.000000</td>\n",
              "    </tr>\n",
              "    <tr>\n",
              "      <th>75%</th>\n",
              "      <td>22.000000</td>\n",
              "      <td>5.000000</td>\n",
              "      <td>259.000000</td>\n",
              "    </tr>\n",
              "    <tr>\n",
              "      <th>max</th>\n",
              "      <td>31.000000</td>\n",
              "      <td>12.000000</td>\n",
              "      <td>355.000000</td>\n",
              "    </tr>\n",
              "  </tbody>\n",
              "</table>\n",
              "</div>"
            ],
            "text/plain": [
              "                Day         Month     Len_Tweet\n",
              "count  41157.000000  41157.000000  41157.000000\n",
              "mean      15.080399      4.333673    204.200160\n",
              "std        8.460537      2.488591     68.655129\n",
              "min        4.000000      1.000000     11.000000\n",
              "25%        4.000000      3.000000    151.000000\n",
              "50%       18.000000      3.000000    215.000000\n",
              "75%       22.000000      5.000000    259.000000\n",
              "max       31.000000     12.000000    355.000000"
            ]
          },
          "metadata": {
            "tags": []
          },
          "execution_count": 14
        }
      ]
    },
    {
      "cell_type": "markdown",
      "metadata": {
        "id": "vyRQeSQi7HiA"
      },
      "source": [
        "_More than 75% of the tweets have a real length of characters, but there are some tweets that pass the number of chracters by tweet_"
      ]
    },
    {
      "cell_type": "code",
      "metadata": {
        "id": "QlXel4JT7HiA",
        "outputId": "86a7f2ea-4b5a-40a1-dd8a-c877dc221537",
        "colab": {
          "base_uri": "https://localhost:8080/",
          "height": 69
        }
      },
      "source": [
        "df[df[\"Len_Tweet\"] > 280].iloc[0, 3]"
      ],
      "execution_count": 15,
      "outputs": [
        {
          "output_type": "execute_result",
          "data": {
            "application/vnd.google.colaboratory.intrinsic+json": {
              "type": "string"
            },
            "text/plain": [
              "\"My food stock is not the only one which is empty...\\r\\r\\n\\r\\r\\nPLEASE, don't panic, THERE WILL BE ENOUGH FOOD FOR EVERYONE if you do not take more than you need. \\r\\r\\nStay calm, stay safe.\\r\\r\\n\\r\\r\\n#COVID19france #COVID_19 #COVID19 #coronavirus #confinement #Confinementotal #ConfinementGeneral https://t.co/zrlG0Z520j\""
            ]
          },
          "metadata": {
            "tags": []
          },
          "execution_count": 15
        }
      ]
    },
    {
      "cell_type": "code",
      "metadata": {
        "id": "cO1D8xOT7HiD",
        "outputId": "6b9f141c-db64-4ea7-9491-ab442f36ab51",
        "colab": {
          "base_uri": "https://localhost:8080/"
        }
      },
      "source": [
        "len(\"My food stock is not the only one which is empty...\\r\\r\\n\\r\\r\\nPLEASE, don't panic, THERE WILL BE ENOUGH FOOD FOR EVERYONE if you do not take more than you need. \\r\\r\\nStay calm, stay safe.\\r\\r\\n\\r\\r\\n#COVID19france #COVID_19 #COVID19 #coronavirus #confinement #Confinementotal #ConfinementGeneral\")"
      ],
      "execution_count": 16,
      "outputs": [
        {
          "output_type": "execute_result",
          "data": {
            "text/plain": [
              "282"
            ]
          },
          "metadata": {
            "tags": []
          },
          "execution_count": 16
        }
      ]
    },
    {
      "cell_type": "markdown",
      "metadata": {
        "id": "vbCznGwE7HiF"
      },
      "source": [
        "_With the information above, we can see that the tweets have more characters because of \\r or \\n, also the tweet has a web page_"
      ]
    },
    {
      "cell_type": "code",
      "metadata": {
        "id": "0obPs9UP7HiG",
        "outputId": "4a8262d1-0419-45ae-964b-ec0797ee01fa",
        "colab": {
          "base_uri": "https://localhost:8080/",
          "height": 235
        }
      },
      "source": [
        "df.pivot_table(values=\"Len_Tweet\", index = [\"Sentiment\"], aggfunc=\"median\")"
      ],
      "execution_count": 17,
      "outputs": [
        {
          "output_type": "execute_result",
          "data": {
            "text/html": [
              "<div>\n",
              "<style scoped>\n",
              "    .dataframe tbody tr th:only-of-type {\n",
              "        vertical-align: middle;\n",
              "    }\n",
              "\n",
              "    .dataframe tbody tr th {\n",
              "        vertical-align: top;\n",
              "    }\n",
              "\n",
              "    .dataframe thead th {\n",
              "        text-align: right;\n",
              "    }\n",
              "</style>\n",
              "<table border=\"1\" class=\"dataframe\">\n",
              "  <thead>\n",
              "    <tr style=\"text-align: right;\">\n",
              "      <th></th>\n",
              "      <th>Len_Tweet</th>\n",
              "    </tr>\n",
              "    <tr>\n",
              "      <th>Sentiment</th>\n",
              "      <th></th>\n",
              "    </tr>\n",
              "  </thead>\n",
              "  <tbody>\n",
              "    <tr>\n",
              "      <th>Extremely Negative</th>\n",
              "      <td>237</td>\n",
              "    </tr>\n",
              "    <tr>\n",
              "      <th>Extremely Positive</th>\n",
              "      <td>241</td>\n",
              "    </tr>\n",
              "    <tr>\n",
              "      <th>Negative</th>\n",
              "      <td>212</td>\n",
              "    </tr>\n",
              "    <tr>\n",
              "      <th>Neutral</th>\n",
              "      <td>160</td>\n",
              "    </tr>\n",
              "    <tr>\n",
              "      <th>Positive</th>\n",
              "      <td>218</td>\n",
              "    </tr>\n",
              "  </tbody>\n",
              "</table>\n",
              "</div>"
            ],
            "text/plain": [
              "                    Len_Tweet\n",
              "Sentiment                    \n",
              "Extremely Negative        237\n",
              "Extremely Positive        241\n",
              "Negative                  212\n",
              "Neutral                   160\n",
              "Positive                  218"
            ]
          },
          "metadata": {
            "tags": []
          },
          "execution_count": 17
        }
      ]
    },
    {
      "cell_type": "markdown",
      "metadata": {
        "id": "v6RAWVjE7HiJ"
      },
      "source": [
        "_The extremely posivite and extremely negative tweets have more characters than any other tweet, so a large tweet may be a signal of and extremist tweet._"
      ]
    },
    {
      "cell_type": "code",
      "metadata": {
        "id": "1YfPXFaM7HiK",
        "outputId": "523001c3-fe86-4730-bbc3-bcfed6d5cb69",
        "colab": {
          "base_uri": "https://localhost:8080/",
          "height": 235
        }
      },
      "source": [
        "df.pivot_table(values=\"Len_Tweet\", index = [\"Sentiment\"], columns= [\"Month\"], aggfunc=\"median\")"
      ],
      "execution_count": 18,
      "outputs": [
        {
          "output_type": "execute_result",
          "data": {
            "text/html": [
              "<div>\n",
              "<style scoped>\n",
              "    .dataframe tbody tr th:only-of-type {\n",
              "        vertical-align: middle;\n",
              "    }\n",
              "\n",
              "    .dataframe tbody tr th {\n",
              "        vertical-align: top;\n",
              "    }\n",
              "\n",
              "    .dataframe thead th {\n",
              "        text-align: right;\n",
              "    }\n",
              "</style>\n",
              "<table border=\"1\" class=\"dataframe\">\n",
              "  <thead>\n",
              "    <tr style=\"text-align: right;\">\n",
              "      <th>Month</th>\n",
              "      <th>1</th>\n",
              "      <th>2</th>\n",
              "      <th>3</th>\n",
              "      <th>4</th>\n",
              "      <th>5</th>\n",
              "      <th>6</th>\n",
              "      <th>7</th>\n",
              "      <th>8</th>\n",
              "      <th>9</th>\n",
              "      <th>10</th>\n",
              "      <th>11</th>\n",
              "      <th>12</th>\n",
              "    </tr>\n",
              "    <tr>\n",
              "      <th>Sentiment</th>\n",
              "      <th></th>\n",
              "      <th></th>\n",
              "      <th></th>\n",
              "      <th></th>\n",
              "      <th></th>\n",
              "      <th></th>\n",
              "      <th></th>\n",
              "      <th></th>\n",
              "      <th></th>\n",
              "      <th></th>\n",
              "      <th></th>\n",
              "      <th></th>\n",
              "    </tr>\n",
              "  </thead>\n",
              "  <tbody>\n",
              "    <tr>\n",
              "      <th>Extremely Negative</th>\n",
              "      <td>233.5</td>\n",
              "      <td>232.0</td>\n",
              "      <td>238.0</td>\n",
              "      <td>236.0</td>\n",
              "      <td>227.5</td>\n",
              "      <td>239.0</td>\n",
              "      <td>238.0</td>\n",
              "      <td>235.0</td>\n",
              "      <td>234.0</td>\n",
              "      <td>233.0</td>\n",
              "      <td>229.0</td>\n",
              "      <td>221.5</td>\n",
              "    </tr>\n",
              "    <tr>\n",
              "      <th>Extremely Positive</th>\n",
              "      <td>235.0</td>\n",
              "      <td>241.0</td>\n",
              "      <td>243.0</td>\n",
              "      <td>237.0</td>\n",
              "      <td>235.5</td>\n",
              "      <td>239.0</td>\n",
              "      <td>239.0</td>\n",
              "      <td>240.0</td>\n",
              "      <td>237.0</td>\n",
              "      <td>244.0</td>\n",
              "      <td>247.5</td>\n",
              "      <td>232.0</td>\n",
              "    </tr>\n",
              "    <tr>\n",
              "      <th>Negative</th>\n",
              "      <td>201.5</td>\n",
              "      <td>194.5</td>\n",
              "      <td>215.0</td>\n",
              "      <td>213.0</td>\n",
              "      <td>211.5</td>\n",
              "      <td>202.0</td>\n",
              "      <td>210.0</td>\n",
              "      <td>198.0</td>\n",
              "      <td>216.0</td>\n",
              "      <td>207.0</td>\n",
              "      <td>214.0</td>\n",
              "      <td>200.0</td>\n",
              "    </tr>\n",
              "    <tr>\n",
              "      <th>Neutral</th>\n",
              "      <td>168.0</td>\n",
              "      <td>158.0</td>\n",
              "      <td>160.0</td>\n",
              "      <td>160.0</td>\n",
              "      <td>151.0</td>\n",
              "      <td>167.0</td>\n",
              "      <td>168.5</td>\n",
              "      <td>157.0</td>\n",
              "      <td>141.0</td>\n",
              "      <td>154.0</td>\n",
              "      <td>165.0</td>\n",
              "      <td>160.0</td>\n",
              "    </tr>\n",
              "    <tr>\n",
              "      <th>Positive</th>\n",
              "      <td>227.5</td>\n",
              "      <td>225.0</td>\n",
              "      <td>218.0</td>\n",
              "      <td>211.5</td>\n",
              "      <td>224.5</td>\n",
              "      <td>213.0</td>\n",
              "      <td>219.0</td>\n",
              "      <td>217.0</td>\n",
              "      <td>226.0</td>\n",
              "      <td>215.0</td>\n",
              "      <td>207.0</td>\n",
              "      <td>211.0</td>\n",
              "    </tr>\n",
              "  </tbody>\n",
              "</table>\n",
              "</div>"
            ],
            "text/plain": [
              "Month                  1      2      3      4   ...     9      10     11     12\n",
              "Sentiment                                       ...                            \n",
              "Extremely Negative  233.5  232.0  238.0  236.0  ...  234.0  233.0  229.0  221.5\n",
              "Extremely Positive  235.0  241.0  243.0  237.0  ...  237.0  244.0  247.5  232.0\n",
              "Negative            201.5  194.5  215.0  213.0  ...  216.0  207.0  214.0  200.0\n",
              "Neutral             168.0  158.0  160.0  160.0  ...  141.0  154.0  165.0  160.0\n",
              "Positive            227.5  225.0  218.0  211.5  ...  226.0  215.0  207.0  211.0\n",
              "\n",
              "[5 rows x 12 columns]"
            ]
          },
          "metadata": {
            "tags": []
          },
          "execution_count": 18
        }
      ]
    },
    {
      "cell_type": "markdown",
      "metadata": {
        "id": "MmGNRWe87HiN"
      },
      "source": [
        "## Preprocessing Tweets"
      ]
    },
    {
      "cell_type": "code",
      "metadata": {
        "id": "TCfKIDl37HiO"
      },
      "source": [
        "sent_dic = dict(zip(df.Sentiment.unique(), range(len(df.Sentiment.unique()))))\n",
        "df[\"Sent_Code\"] = [sent_dic[x] for x in df.Sentiment]\n",
        "Y = keras.utils.to_categorical(df.Sent_Code)"
      ],
      "execution_count": 19,
      "outputs": []
    },
    {
      "cell_type": "markdown",
      "metadata": {
        "id": "mSZG7oAd7HiR"
      },
      "source": [
        "### Tokenizing the data"
      ]
    },
    {
      "cell_type": "code",
      "metadata": {
        "id": "Vj2gdtt-7HiR"
      },
      "source": [
        "maxlen = 100 #max number of word\n",
        "training_samples = 37157 #train in 200\n",
        "validation_samples = 4000 # validates on 10000\n",
        "max_words = 20000 #considers the first 10000 words\n",
        "\n",
        "tokenizer = Tokenizer(num_words=max_words)\n",
        "tokenizer.fit_on_texts(df.OriginalTweet)\n",
        "sequences = tokenizer.texts_to_sequences(df.OriginalTweet)"
      ],
      "execution_count": 20,
      "outputs": []
    },
    {
      "cell_type": "code",
      "metadata": {
        "id": "vTmB00LZ7HiU",
        "outputId": "d79ac82a-fd27-48a7-e344-246e3e6d7bad",
        "colab": {
          "base_uri": "https://localhost:8080/"
        }
      },
      "source": [
        "word_index = tokenizer.word_index\n",
        "print('Found %s unique tokens.' % len(word_index))\n",
        "data = pad_sequences(sequences, maxlen=maxlen)"
      ],
      "execution_count": 21,
      "outputs": [
        {
          "output_type": "stream",
          "text": [
            "Found 85198 unique tokens.\n"
          ],
          "name": "stdout"
        }
      ]
    },
    {
      "cell_type": "code",
      "metadata": {
        "id": "iN0ok_fR7HiW",
        "outputId": "7c1c1faa-86fe-4f5d-aa17-7b13d1be1b5a",
        "colab": {
          "base_uri": "https://localhost:8080/"
        }
      },
      "source": [
        "labels = np.asarray(Y)\n",
        "print('Shape of data tensor:', data.shape)\n",
        "print('Shape of label tensor:', labels.shape)"
      ],
      "execution_count": 22,
      "outputs": [
        {
          "output_type": "stream",
          "text": [
            "Shape of data tensor: (41157, 100)\n",
            "Shape of label tensor: (41157, 5)\n"
          ],
          "name": "stdout"
        }
      ]
    },
    {
      "cell_type": "code",
      "metadata": {
        "id": "sZgo18fW7HiZ"
      },
      "source": [
        "indices = np.arange(data.shape[0])\n",
        "np.random.shuffle(indices)\n",
        "data = data[indices]\n",
        "labels = labels[indices]\n",
        "\n",
        "x_train = data[:training_samples]\n",
        "y_train = labels[:training_samples]\n",
        "x_val = data[training_samples: training_samples + validation_samples]\n",
        "y_val = labels[training_samples: training_samples + validation_samples]"
      ],
      "execution_count": 23,
      "outputs": []
    },
    {
      "cell_type": "markdown",
      "metadata": {
        "id": "m6xNU9Q_ylLr"
      },
      "source": [
        "## Embedding"
      ]
    },
    {
      "cell_type": "code",
      "metadata": {
        "id": "5op25Bcdy7Bd"
      },
      "source": [
        "myfile9 = drive.CreateFile({'id': '1JT5s4yhAcSfGvgWVKf57QkoMTM72zrSF'})\n",
        "myfile9.GetContentFile('glove.6B.100d.txt')"
      ],
      "execution_count": 24,
      "outputs": []
    },
    {
      "cell_type": "code",
      "metadata": {
        "id": "JhII_M0aykeq",
        "outputId": "854ededa-51ff-4d6e-acb9-68f43dc45815",
        "colab": {
          "base_uri": "https://localhost:8080/"
        }
      },
      "source": [
        "embeddings_index = {}\n",
        "f = open('glove.6B.100d.txt', encoding=\"utf8\")\n",
        "\n",
        "for line in f:\n",
        "    values = line.split()\n",
        "    word = values[0]\n",
        "    coefs = np.asarray(values[1:], dtype='float32')\n",
        "    embeddings_index[word] = coefs\n",
        "    \n",
        "f.close()\n",
        "print('Found %s word vectors.' % len(embeddings_index))"
      ],
      "execution_count": 25,
      "outputs": [
        {
          "output_type": "stream",
          "text": [
            "Found 400000 word vectors.\n"
          ],
          "name": "stdout"
        }
      ]
    },
    {
      "cell_type": "code",
      "metadata": {
        "id": "yv8uB9vUy3DU"
      },
      "source": [
        "embedding_dim = 100\n",
        "embedding_matrix = np.zeros((max_words, embedding_dim))\n",
        "for word, i in word_index.items():\n",
        "    if i < max_words:\n",
        "        embedding_vector = embeddings_index.get(word)\n",
        "        if embedding_vector is not None:\n",
        "            embedding_matrix[i] = embedding_vector"
      ],
      "execution_count": 26,
      "outputs": []
    },
    {
      "cell_type": "markdown",
      "metadata": {
        "id": "KJX8jV4yv4nT"
      },
      "source": [
        "## Neural Network"
      ]
    },
    {
      "cell_type": "code",
      "metadata": {
        "id": "K27zslou7Hil",
        "outputId": "253e3995-b103-425e-e55a-bc36c45f5240",
        "colab": {
          "base_uri": "https://localhost:8080/"
        }
      },
      "source": [
        "embedding_dim = 100\n",
        "model = Sequential()\n",
        "model.add(Embedding(max_words, embedding_dim, input_length=maxlen))\n",
        "model.add(GRU(64, dropout = 0.1, recurrent_dropout = 0.3, return_sequences = True))\n",
        "model.add(LSTM(64))\n",
        "model.add(Dense(32, activation='relu'))\n",
        "model.add(Dropout(.2))\n",
        "model.add(Dense(5, activation='softmax'))\n",
        "model.summary()"
      ],
      "execution_count": 27,
      "outputs": [
        {
          "output_type": "stream",
          "text": [
            "WARNING:tensorflow:Layer gru will not use cuDNN kernel since it doesn't meet the cuDNN kernel criteria. It will use generic GPU kernel as fallback when running on GPU\n",
            "Model: \"sequential\"\n",
            "_________________________________________________________________\n",
            "Layer (type)                 Output Shape              Param #   \n",
            "=================================================================\n",
            "embedding (Embedding)        (None, 100, 100)          2000000   \n",
            "_________________________________________________________________\n",
            "gru (GRU)                    (None, 100, 64)           31872     \n",
            "_________________________________________________________________\n",
            "lstm (LSTM)                  (None, 64)                33024     \n",
            "_________________________________________________________________\n",
            "dense (Dense)                (None, 32)                2080      \n",
            "_________________________________________________________________\n",
            "dropout (Dropout)            (None, 32)                0         \n",
            "_________________________________________________________________\n",
            "dense_1 (Dense)              (None, 5)                 165       \n",
            "=================================================================\n",
            "Total params: 2,067,141\n",
            "Trainable params: 2,067,141\n",
            "Non-trainable params: 0\n",
            "_________________________________________________________________\n"
          ],
          "name": "stdout"
        }
      ]
    },
    {
      "cell_type": "code",
      "metadata": {
        "id": "zYQboEG07Hin"
      },
      "source": [
        "model.layers[0].set_weights([embedding_matrix])\n",
        "model.layers[0].trainable = False"
      ],
      "execution_count": 28,
      "outputs": []
    },
    {
      "cell_type": "code",
      "metadata": {
        "id": "HTmvT0DN7Hiq",
        "outputId": "047a9e5a-2e78-44b8-d154-c0a5d0badb37",
        "colab": {
          "base_uri": "https://localhost:8080/"
        }
      },
      "source": [
        "model.compile(optimizer='adam', loss='categorical_crossentropy', metrics=['categorical_accuracy'])\n",
        "history = model.fit(x_train, y_train, epochs=15, batch_size=128, validation_data=(x_val, y_val))"
      ],
      "execution_count": 29,
      "outputs": [
        {
          "output_type": "stream",
          "text": [
            "Epoch 1/15\n",
            "291/291 [==============================] - 88s 303ms/step - loss: 1.3612 - categorical_accuracy: 0.3987 - val_loss: 1.2092 - val_categorical_accuracy: 0.4710\n",
            "Epoch 2/15\n",
            "291/291 [==============================] - 88s 303ms/step - loss: 1.1689 - categorical_accuracy: 0.5031 - val_loss: 1.0690 - val_categorical_accuracy: 0.5458\n",
            "Epoch 3/15\n",
            "291/291 [==============================] - 88s 301ms/step - loss: 1.1055 - categorical_accuracy: 0.5348 - val_loss: 1.0275 - val_categorical_accuracy: 0.5692\n",
            "Epoch 4/15\n",
            "291/291 [==============================] - 88s 304ms/step - loss: 1.0520 - categorical_accuracy: 0.5664 - val_loss: 1.0009 - val_categorical_accuracy: 0.5757\n",
            "Epoch 5/15\n",
            "291/291 [==============================] - 89s 305ms/step - loss: 1.0086 - categorical_accuracy: 0.5886 - val_loss: 0.9452 - val_categorical_accuracy: 0.6133\n",
            "Epoch 6/15\n",
            "291/291 [==============================] - 89s 305ms/step - loss: 0.9697 - categorical_accuracy: 0.6083 - val_loss: 0.9004 - val_categorical_accuracy: 0.6305\n",
            "Epoch 7/15\n",
            "291/291 [==============================] - 88s 303ms/step - loss: 0.9317 - categorical_accuracy: 0.6281 - val_loss: 0.9360 - val_categorical_accuracy: 0.6137\n",
            "Epoch 8/15\n",
            "291/291 [==============================] - 88s 304ms/step - loss: 0.9092 - categorical_accuracy: 0.6381 - val_loss: 0.8704 - val_categorical_accuracy: 0.6482\n",
            "Epoch 9/15\n",
            "291/291 [==============================] - 89s 305ms/step - loss: 0.8738 - categorical_accuracy: 0.6547 - val_loss: 0.8680 - val_categorical_accuracy: 0.6505\n",
            "Epoch 10/15\n",
            "291/291 [==============================] - 88s 301ms/step - loss: 0.8602 - categorical_accuracy: 0.6641 - val_loss: 0.8468 - val_categorical_accuracy: 0.6605\n",
            "Epoch 11/15\n",
            "291/291 [==============================] - 88s 302ms/step - loss: 0.8313 - categorical_accuracy: 0.6755 - val_loss: 0.8136 - val_categorical_accuracy: 0.6845\n",
            "Epoch 12/15\n",
            "291/291 [==============================] - 88s 304ms/step - loss: 0.8098 - categorical_accuracy: 0.6843 - val_loss: 0.7960 - val_categorical_accuracy: 0.6892\n",
            "Epoch 13/15\n",
            "291/291 [==============================] - 89s 305ms/step - loss: 0.7934 - categorical_accuracy: 0.6937 - val_loss: 0.7950 - val_categorical_accuracy: 0.6892\n",
            "Epoch 14/15\n",
            "291/291 [==============================] - 87s 298ms/step - loss: 0.7796 - categorical_accuracy: 0.6994 - val_loss: 0.7775 - val_categorical_accuracy: 0.6955\n",
            "Epoch 15/15\n",
            "291/291 [==============================] - 87s 299ms/step - loss: 0.7604 - categorical_accuracy: 0.7068 - val_loss: 0.7576 - val_categorical_accuracy: 0.7080\n"
          ],
          "name": "stdout"
        }
      ]
    },
    {
      "cell_type": "code",
      "metadata": {
        "id": "vcrHg6Pi7His",
        "outputId": "954cc509-7b9a-4ac3-905c-a62bc971e26d",
        "colab": {
          "base_uri": "https://localhost:8080/",
          "height": 545
        }
      },
      "source": [
        "acc = history.history['categorical_accuracy']\n",
        "val_acc = history.history['val_categorical_accuracy']\n",
        "loss = history.history['loss']\n",
        "val_loss = history.history['val_loss']\n",
        "epochs = range(1, len(acc) + 1)\n",
        "plt.plot(epochs, acc, 'bo', label='Training acc')\n",
        "plt.plot(epochs, val_acc, 'b', label='Validation acc')\n",
        "plt.title('Training and validation accuracy')\n",
        "plt.legend()\n",
        "plt.figure()\n",
        "plt.plot(epochs, loss, 'bo', label='Training loss')\n",
        "plt.plot(epochs, val_loss, 'b', label='Validation loss')\n",
        "plt.title('Training and validation loss')\n",
        "plt.legend()\n",
        "plt.show()"
      ],
      "execution_count": 30,
      "outputs": [
        {
          "output_type": "display_data",
          "data": {
            "image/png": "[encoded data removed]",
            "text/plain": [
              "<Figure size 432x288 with 1 Axes>"
            ]
          },
          "metadata": {
            "tags": [],
            "needs_background": "light"
          }
        },
        {
          "output_type": "display_data",
          "data": {
            "image/png": "[encoded data removed]",
            "text/plain": [
              "<Figure size 432x288 with 1 Axes>"
            ]
          },
          "metadata": {
            "tags": [],
            "needs_background": "light"
          }
        }
      ]
    },
    {
      "cell_type": "markdown",
      "metadata": {
        "id": "Vr4WkKnaUA8j"
      },
      "source": [
        "## Test"
      ]
    },
    {
      "cell_type": "code",
      "metadata": {
        "id": "ILVemR_PRY0C"
      },
      "source": [
        "auth.authenticate_user()\n",
        "gauth = GoogleAuth()\n",
        "gauth.credentials = GoogleCredentials.get_application_default()\n",
        "drive = GoogleDrive(gauth)\n",
        "\n",
        "myfile3 = drive.CreateFile({'id': '1wQ-qDTT0vRE49ipbP0J1WbG-rHxV7A7c'})\n",
        "myfile3.GetContentFile('Corona_NLP_test.csv')"
      ],
      "execution_count": 31,
      "outputs": []
    },
    {
      "cell_type": "code",
      "metadata": {
        "id": "1C-xq17eTw9r",
        "outputId": "33fa0dab-437e-4d84-830c-7ef765930c08",
        "colab": {
          "base_uri": "https://localhost:8080/",
          "height": 204
        }
      },
      "source": [
        "df2 = pd.read_csv(\"Corona_NLP_test.csv\")\n",
        "df2.head()"
      ],
      "execution_count": 32,
      "outputs": [
        {
          "output_type": "execute_result",
          "data": {
            "text/html": [
              "<div>\n",
              "<style scoped>\n",
              "    .dataframe tbody tr th:only-of-type {\n",
              "        vertical-align: middle;\n",
              "    }\n",
              "\n",
              "    .dataframe tbody tr th {\n",
              "        vertical-align: top;\n",
              "    }\n",
              "\n",
              "    .dataframe thead th {\n",
              "        text-align: right;\n",
              "    }\n",
              "</style>\n",
              "<table border=\"1\" class=\"dataframe\">\n",
              "  <thead>\n",
              "    <tr style=\"text-align: right;\">\n",
              "      <th></th>\n",
              "      <th>UserName</th>\n",
              "      <th>ScreenName</th>\n",
              "      <th>Location</th>\n",
              "      <th>TweetAt</th>\n",
              "      <th>OriginalTweet</th>\n",
              "      <th>Sentiment</th>\n",
              "    </tr>\n",
              "  </thead>\n",
              "  <tbody>\n",
              "    <tr>\n",
              "      <th>0</th>\n",
              "      <td>1</td>\n",
              "      <td>44953</td>\n",
              "      <td>NYC</td>\n",
              "      <td>02-03-2020</td>\n",
              "      <td>TRENDING: New Yorkers encounter empty supermar...</td>\n",
              "      <td>Extremely Negative</td>\n",
              "    </tr>\n",
              "    <tr>\n",
              "      <th>1</th>\n",
              "      <td>2</td>\n",
              "      <td>44954</td>\n",
              "      <td>Seattle, WA</td>\n",
              "      <td>02-03-2020</td>\n",
              "      <td>When I couldn't find hand sanitizer at Fred Me...</td>\n",
              "      <td>Positive</td>\n",
              "    </tr>\n",
              "    <tr>\n",
              "      <th>2</th>\n",
              "      <td>3</td>\n",
              "      <td>44955</td>\n",
              "      <td>NaN</td>\n",
              "      <td>02-03-2020</td>\n",
              "      <td>Find out how you can protect yourself and love...</td>\n",
              "      <td>Extremely Positive</td>\n",
              "    </tr>\n",
              "    <tr>\n",
              "      <th>3</th>\n",
              "      <td>4</td>\n",
              "      <td>44956</td>\n",
              "      <td>Chicagoland</td>\n",
              "      <td>02-03-2020</td>\n",
              "      <td>#Panic buying hits #NewYork City as anxious sh...</td>\n",
              "      <td>Negative</td>\n",
              "    </tr>\n",
              "    <tr>\n",
              "      <th>4</th>\n",
              "      <td>5</td>\n",
              "      <td>44957</td>\n",
              "      <td>Melbourne, Victoria</td>\n",
              "      <td>03-03-2020</td>\n",
              "      <td>#toiletpaper #dunnypaper #coronavirus #coronav...</td>\n",
              "      <td>Neutral</td>\n",
              "    </tr>\n",
              "  </tbody>\n",
              "</table>\n",
              "</div>"
            ],
            "text/plain": [
              "   UserName  ...           Sentiment\n",
              "0         1  ...  Extremely Negative\n",
              "1         2  ...            Positive\n",
              "2         3  ...  Extremely Positive\n",
              "3         4  ...            Negative\n",
              "4         5  ...             Neutral\n",
              "\n",
              "[5 rows x 6 columns]"
            ]
          },
          "metadata": {
            "tags": []
          },
          "execution_count": 32
        }
      ]
    },
    {
      "cell_type": "markdown",
      "metadata": {
        "id": "XI1A6-GqUHpZ"
      },
      "source": [
        "## Preprocessing Test"
      ]
    },
    {
      "cell_type": "code",
      "metadata": {
        "id": "kyBOxA_FT6_i"
      },
      "source": [
        "df2[\"Sent_Code\"] = [sent_dic[x] for x in df2.Sentiment]\n",
        "Y_test = keras.utils.to_categorical(df2.Sent_Code)"
      ],
      "execution_count": 33,
      "outputs": []
    },
    {
      "cell_type": "code",
      "metadata": {
        "id": "9j9pgfT1UeYm"
      },
      "source": [
        "sequences2 = tokenizer.texts_to_sequences(df2.OriginalTweet)\n",
        "data_test = pad_sequences(sequences2, maxlen=maxlen)"
      ],
      "execution_count": 34,
      "outputs": []
    },
    {
      "cell_type": "code",
      "metadata": {
        "id": "eAQ7Qxs7U8rG",
        "outputId": "d03790a6-768e-4ab9-e992-51c11261d1d1",
        "colab": {
          "base_uri": "https://localhost:8080/"
        }
      },
      "source": [
        "model.evaluate(data_test, Y_test)"
      ],
      "execution_count": 35,
      "outputs": [
        {
          "output_type": "stream",
          "text": [
            "119/119 [==============================] - 3s 27ms/step - loss: 0.8391 - categorical_accuracy: 0.6906\n"
          ],
          "name": "stdout"
        },
        {
          "output_type": "execute_result",
          "data": {
            "text/plain": [
              "[0.8391098976135254, 0.6906266212463379]"
            ]
          },
          "metadata": {
            "tags": []
          },
          "execution_count": 35
        }
      ]
    },
    {
      "cell_type": "markdown",
      "metadata": {
        "id": "pqgVpRtinIvA"
      },
      "source": [
        "_The model has a categorical acurracy of 71.4%, that is close to the acurracy of the validation set, so there is no overfitting between the validation and test. Next the construction of a confussion matrix to observe wich categorias have a problem._"
      ]
    },
    {
      "cell_type": "code",
      "metadata": {
        "id": "uANlgvYpX_yT",
        "outputId": "6635064d-02f8-4b1b-a562-37bfb00ea3ff",
        "colab": {
          "base_uri": "https://localhost:8080/",
          "height": 442
        }
      },
      "source": [
        "y_predict = model.predict_classes(data_test)\n",
        "sent = [\"Neutral\", \"Positive\", \"Extremely Negative\", \"Negative\", \"Extremely Positive\"]\n",
        "\n",
        "cm = confusion_matrix(df2.Sent_Code, y_predict)\n",
        "heatmap(cm, cmap=\"YlGnBu\", annot = True, fmt=\"d\", xticklabels = sent, yticklabels = sent)"
      ],
      "execution_count": 36,
      "outputs": [
        {
          "output_type": "stream",
          "text": [
            "WARNING:tensorflow:From <ipython-input-36-8e3cd3b7d4b6>:1: Sequential.predict_classes (from tensorflow.python.keras.engine.sequential) is deprecated and will be removed after 2021-01-01.\n",
            "Instructions for updating:\n",
            "Please use instead:* `np.argmax(model.predict(x), axis=-1)`,   if your model does multi-class classification   (e.g. if it uses a `softmax` last-layer activation).* `(model.predict(x) > 0.5).astype(\"int32\")`,   if your model does binary classification   (e.g. if it uses a `sigmoid` last-layer activation).\n"
          ],
          "name": "stdout"
        },
        {
          "output_type": "execute_result",
          "data": {
            "text/plain": [
              "<matplotlib.axes._subplots.AxesSubplot at 0x7fea72a56be0>"
            ]
          },
          "metadata": {
            "tags": []
          },
          "execution_count": 36
        },
        {
          "output_type": "display_data",
          "data": {
            "image/png": "[encoded data removed]",
            "text/plain": [
              "<Figure size 432x288 with 2 Axes>"
            ]
          },
          "metadata": {
            "tags": [],
            "needs_background": "light"
          }
        }
      ]
    },
    {
      "cell_type": "markdown",
      "metadata": {
        "id": "hN5kYwZ0psyX"
      },
      "source": [
        "_As expected, the extremely positives tweets are confused with the positive tweets, this also occurs with the negative tweets. The next part will be joining this four categories into only two, this may help in the accuracy metric_"
      ]
    },
    {
      "cell_type": "code",
      "metadata": {
        "id": "Elcwu5XlKyCE",
        "outputId": "6c3594b0-338f-4cca-97e6-e026d0135d80",
        "colab": {
          "base_uri": "https://localhost:8080/"
        }
      },
      "source": [
        "print(classification_report(df2.Sent_Code, y_predict))"
      ],
      "execution_count": 37,
      "outputs": [
        {
          "output_type": "stream",
          "text": [
            "              precision    recall  f1-score   support\n",
            "\n",
            "           0       0.73      0.78      0.76       619\n",
            "           1       0.61      0.72      0.66       947\n",
            "           2       0.76      0.69      0.72       592\n",
            "           3       0.66      0.64      0.65      1041\n",
            "           4       0.84      0.64      0.72       599\n",
            "\n",
            "    accuracy                           0.69      3798\n",
            "   macro avg       0.72      0.69      0.70      3798\n",
            "weighted avg       0.70      0.69      0.69      3798\n",
            "\n"
          ],
          "name": "stdout"
        }
      ]
    },
    {
      "cell_type": "markdown",
      "metadata": {
        "id": "2nzv_ox2veki"
      },
      "source": [
        "# New Model"
      ]
    },
    {
      "cell_type": "code",
      "metadata": {
        "id": "V19pZdqFqQxa",
        "outputId": "bf6fa558-0a2d-449b-fd9f-1d901bb5dabb",
        "colab": {
          "base_uri": "https://localhost:8080/",
          "height": 204
        }
      },
      "source": [
        "new_df = pd.read_csv('Corona_NLP_train.csv', encoding = 'latin')\n",
        "new_df.head()"
      ],
      "execution_count": 38,
      "outputs": [
        {
          "output_type": "execute_result",
          "data": {
            "text/html": [
              "<div>\n",
              "<style scoped>\n",
              "    .dataframe tbody tr th:only-of-type {\n",
              "        vertical-align: middle;\n",
              "    }\n",
              "\n",
              "    .dataframe tbody tr th {\n",
              "        vertical-align: top;\n",
              "    }\n",
              "\n",
              "    .dataframe thead th {\n",
              "        text-align: right;\n",
              "    }\n",
              "</style>\n",
              "<table border=\"1\" class=\"dataframe\">\n",
              "  <thead>\n",
              "    <tr style=\"text-align: right;\">\n",
              "      <th></th>\n",
              "      <th>UserName</th>\n",
              "      <th>ScreenName</th>\n",
              "      <th>Location</th>\n",
              "      <th>TweetAt</th>\n",
              "      <th>OriginalTweet</th>\n",
              "      <th>Sentiment</th>\n",
              "    </tr>\n",
              "  </thead>\n",
              "  <tbody>\n",
              "    <tr>\n",
              "      <th>0</th>\n",
              "      <td>3799</td>\n",
              "      <td>48751</td>\n",
              "      <td>London</td>\n",
              "      <td>16-03-2020</td>\n",
              "      <td>@MeNyrbie @Phil_Gahan @Chrisitv https://t.co/i...</td>\n",
              "      <td>Neutral</td>\n",
              "    </tr>\n",
              "    <tr>\n",
              "      <th>1</th>\n",
              "      <td>3800</td>\n",
              "      <td>48752</td>\n",
              "      <td>UK</td>\n",
              "      <td>16-03-2020</td>\n",
              "      <td>advice Talk to your neighbours family to excha...</td>\n",
              "      <td>Positive</td>\n",
              "    </tr>\n",
              "    <tr>\n",
              "      <th>2</th>\n",
              "      <td>3801</td>\n",
              "      <td>48753</td>\n",
              "      <td>Vagabonds</td>\n",
              "      <td>16-03-2020</td>\n",
              "      <td>Coronavirus Australia: Woolworths to give elde...</td>\n",
              "      <td>Positive</td>\n",
              "    </tr>\n",
              "    <tr>\n",
              "      <th>3</th>\n",
              "      <td>3802</td>\n",
              "      <td>48754</td>\n",
              "      <td>NaN</td>\n",
              "      <td>16-03-2020</td>\n",
              "      <td>My food stock is not the only one which is emp...</td>\n",
              "      <td>Positive</td>\n",
              "    </tr>\n",
              "    <tr>\n",
              "      <th>4</th>\n",
              "      <td>3803</td>\n",
              "      <td>48755</td>\n",
              "      <td>NaN</td>\n",
              "      <td>16-03-2020</td>\n",
              "      <td>Me, ready to go at supermarket during the #COV...</td>\n",
              "      <td>Extremely Negative</td>\n",
              "    </tr>\n",
              "  </tbody>\n",
              "</table>\n",
              "</div>"
            ],
            "text/plain": [
              "   UserName  ...           Sentiment\n",
              "0      3799  ...             Neutral\n",
              "1      3800  ...            Positive\n",
              "2      3801  ...            Positive\n",
              "3      3802  ...            Positive\n",
              "4      3803  ...  Extremely Negative\n",
              "\n",
              "[5 rows x 6 columns]"
            ]
          },
          "metadata": {
            "tags": []
          },
          "execution_count": 38
        }
      ]
    },
    {
      "cell_type": "code",
      "metadata": {
        "id": "3adB0YGVscW9"
      },
      "source": [
        "new_sentiments = []\n",
        "for i in new_df.Sentiment:\n",
        "  if i == \"Extremely Negative\":\n",
        "    new_sentiments.append(\"Negative\")\n",
        "  elif i == \"Extremely Positive\":\n",
        "    new_sentiments.append(\"Positive\")\n",
        "  else:\n",
        "    new_sentiments.append(i)\n",
        "\n",
        "new_df.Sentiment = np.array(new_sentiments)"
      ],
      "execution_count": 39,
      "outputs": []
    },
    {
      "cell_type": "markdown",
      "metadata": {
        "id": "gFJwiiLEtVSM"
      },
      "source": [
        "## New Preprocessing"
      ]
    },
    {
      "cell_type": "code",
      "metadata": {
        "id": "2AuSZU6AtT4z"
      },
      "source": [
        "new_sent_dic = dict(zip(new_df.Sentiment.unique(), range(len(new_df.Sentiment.unique()))))\n",
        "new_df[\"Sent_Code\"] = [new_sent_dic[x] for x in new_df.Sentiment]\n",
        "new_Y = keras.utils.to_categorical(new_df.Sent_Code)"
      ],
      "execution_count": 40,
      "outputs": []
    },
    {
      "cell_type": "markdown",
      "metadata": {
        "id": "IT4l9Yxztq26"
      },
      "source": [
        "## New Token"
      ]
    },
    {
      "cell_type": "code",
      "metadata": {
        "id": "de6HybkMtshC"
      },
      "source": [
        "new_sequences = tokenizer.texts_to_sequences(new_df.OriginalTweet)\n",
        "new_data = pad_sequences(new_sequences, maxlen=maxlen)"
      ],
      "execution_count": 41,
      "outputs": []
    },
    {
      "cell_type": "code",
      "metadata": {
        "id": "H00xrdlduBKk"
      },
      "source": [
        "indices = np.arange(new_data.shape[0])\n",
        "np.random.shuffle(indices)\n",
        "new_data = new_data[indices]\n",
        "new_labels = new_Y[indices]\n",
        "\n",
        "x_train_n = new_data[:training_samples]\n",
        "y_train_n = new_labels[:training_samples]\n",
        "x_val_n = new_data[training_samples: training_samples + validation_samples]\n",
        "y_val_n = new_labels[training_samples: training_samples + validation_samples]"
      ],
      "execution_count": 42,
      "outputs": []
    },
    {
      "cell_type": "markdown",
      "metadata": {
        "id": "XHNZLTzev09q"
      },
      "source": [
        "## New Neural Network"
      ]
    },
    {
      "cell_type": "code",
      "metadata": {
        "id": "wVmsrIp7vw7n",
        "outputId": "48f6ac54-8ad5-4b7e-c2ec-982643839582",
        "colab": {
          "base_uri": "https://localhost:8080/"
        }
      },
      "source": [
        "model2 = Sequential()\n",
        "model2.add(Embedding(max_words, embedding_dim, input_length=maxlen))\n",
        "model2.add(GRU(128, dropout = 0.1, recurrent_dropout = 0.3, return_sequences = True))\n",
        "model2.add(LSTM(64))\n",
        "model2.add(Dense(64, activation='relu'))\n",
        "model2.add(Dropout(.2))\n",
        "model2.add(Dense(64, activation='relu'))\n",
        "model2.add(Dropout(.2))\n",
        "model2.add(Dense(3, activation='softmax'))\n",
        "model2.summary()"
      ],
      "execution_count": 43,
      "outputs": [
        {
          "output_type": "stream",
          "text": [
            "WARNING:tensorflow:Layer gru_1 will not use cuDNN kernel since it doesn't meet the cuDNN kernel criteria. It will use generic GPU kernel as fallback when running on GPU\n",
            "Model: \"sequential_1\"\n",
            "_________________________________________________________________\n",
            "Layer (type)                 Output Shape              Param #   \n",
            "=================================================================\n",
            "embedding_1 (Embedding)      (None, 100, 100)          2000000   \n",
            "_________________________________________________________________\n",
            "gru_1 (GRU)                  (None, 100, 128)          88320     \n",
            "_________________________________________________________________\n",
            "lstm_1 (LSTM)                (None, 64)                49408     \n",
            "_________________________________________________________________\n",
            "dense_2 (Dense)              (None, 64)                4160      \n",
            "_________________________________________________________________\n",
            "dropout_1 (Dropout)          (None, 64)                0         \n",
            "_________________________________________________________________\n",
            "dense_3 (Dense)              (None, 64)                4160      \n",
            "_________________________________________________________________\n",
            "dropout_2 (Dropout)          (None, 64)                0         \n",
            "_________________________________________________________________\n",
            "dense_4 (Dense)              (None, 3)                 195       \n",
            "=================================================================\n",
            "Total params: 2,146,243\n",
            "Trainable params: 2,146,243\n",
            "Non-trainable params: 0\n",
            "_________________________________________________________________\n"
          ],
          "name": "stdout"
        }
      ]
    },
    {
      "cell_type": "code",
      "metadata": {
        "id": "Ed2HCnYOv_fs",
        "outputId": "990514d8-c3ed-46b4-9dac-3c8948f67793",
        "colab": {
          "base_uri": "https://localhost:8080/"
        }
      },
      "source": [
        "model2.layers[0].set_weights([embedding_matrix])\n",
        "model2.layers[0].trainable = False\n",
        "\n",
        "model2.compile(optimizer='adam', loss='categorical_crossentropy', metrics=['categorical_accuracy'])\n",
        "history2 = model2.fit(x_train_n, y_train_n, epochs=20, batch_size=256, validation_data=(x_val_n, y_val_n))"
      ],
      "execution_count": 44,
      "outputs": [
        {
          "output_type": "stream",
          "text": [
            "Epoch 1/20\n",
            "146/146 [==============================] - 46s 313ms/step - loss: 0.9005 - categorical_accuracy: 0.5771 - val_loss: 0.7959 - val_categorical_accuracy: 0.6618\n",
            "Epoch 2/20\n",
            "146/146 [==============================] - 45s 305ms/step - loss: 0.7574 - categorical_accuracy: 0.6735 - val_loss: 0.7551 - val_categorical_accuracy: 0.6710\n",
            "Epoch 3/20\n",
            "146/146 [==============================] - 45s 307ms/step - loss: 0.7150 - categorical_accuracy: 0.6976 - val_loss: 0.6986 - val_categorical_accuracy: 0.7070\n",
            "Epoch 4/20\n",
            "146/146 [==============================] - 45s 307ms/step - loss: 0.6729 - categorical_accuracy: 0.7201 - val_loss: 0.6597 - val_categorical_accuracy: 0.7327\n",
            "Epoch 5/20\n",
            "146/146 [==============================] - 45s 308ms/step - loss: 0.6387 - categorical_accuracy: 0.7408 - val_loss: 0.6427 - val_categorical_accuracy: 0.7450\n",
            "Epoch 6/20\n",
            "146/146 [==============================] - 45s 307ms/step - loss: 0.6178 - categorical_accuracy: 0.7507 - val_loss: 0.6048 - val_categorical_accuracy: 0.7567\n",
            "Epoch 7/20\n",
            "146/146 [==============================] - 45s 311ms/step - loss: 0.5861 - categorical_accuracy: 0.7660 - val_loss: 0.5975 - val_categorical_accuracy: 0.7682\n",
            "Epoch 8/20\n",
            "146/146 [==============================] - 44s 301ms/step - loss: 0.5602 - categorical_accuracy: 0.7807 - val_loss: 0.6018 - val_categorical_accuracy: 0.7570\n",
            "Epoch 9/20\n",
            "146/146 [==============================] - 45s 306ms/step - loss: 0.5352 - categorical_accuracy: 0.7909 - val_loss: 0.5525 - val_categorical_accuracy: 0.7853\n",
            "Epoch 10/20\n",
            "146/146 [==============================] - 45s 307ms/step - loss: 0.5177 - categorical_accuracy: 0.7996 - val_loss: 0.5432 - val_categorical_accuracy: 0.7970\n",
            "Epoch 11/20\n",
            "146/146 [==============================] - 46s 314ms/step - loss: 0.4929 - categorical_accuracy: 0.8101 - val_loss: 0.5454 - val_categorical_accuracy: 0.7925\n",
            "Epoch 12/20\n",
            "146/146 [==============================] - 45s 308ms/step - loss: 0.4763 - categorical_accuracy: 0.8186 - val_loss: 0.5461 - val_categorical_accuracy: 0.7952\n",
            "Epoch 13/20\n",
            "146/146 [==============================] - 45s 306ms/step - loss: 0.4589 - categorical_accuracy: 0.8261 - val_loss: 0.5357 - val_categorical_accuracy: 0.8015\n",
            "Epoch 14/20\n",
            "146/146 [==============================] - 45s 308ms/step - loss: 0.4387 - categorical_accuracy: 0.8345 - val_loss: 0.5496 - val_categorical_accuracy: 0.7925\n",
            "Epoch 15/20\n",
            "146/146 [==============================] - 46s 317ms/step - loss: 0.4298 - categorical_accuracy: 0.8383 - val_loss: 0.5172 - val_categorical_accuracy: 0.8055\n",
            "Epoch 16/20\n",
            "146/146 [==============================] - 46s 312ms/step - loss: 0.4108 - categorical_accuracy: 0.8471 - val_loss: 0.5328 - val_categorical_accuracy: 0.8092\n",
            "Epoch 17/20\n",
            "146/146 [==============================] - 45s 310ms/step - loss: 0.4000 - categorical_accuracy: 0.8501 - val_loss: 0.5571 - val_categorical_accuracy: 0.8043\n",
            "Epoch 18/20\n",
            "146/146 [==============================] - 45s 307ms/step - loss: 0.3837 - categorical_accuracy: 0.8574 - val_loss: 0.5413 - val_categorical_accuracy: 0.8070\n",
            "Epoch 19/20\n",
            "146/146 [==============================] - 45s 307ms/step - loss: 0.3723 - categorical_accuracy: 0.8626 - val_loss: 0.5109 - val_categorical_accuracy: 0.8200\n",
            "Epoch 20/20\n",
            "146/146 [==============================] - 44s 299ms/step - loss: 0.3575 - categorical_accuracy: 0.8697 - val_loss: 0.5331 - val_categorical_accuracy: 0.8173\n"
          ],
          "name": "stdout"
        }
      ]
    },
    {
      "cell_type": "code",
      "metadata": {
        "id": "n2FZIdhZ1Py1",
        "outputId": "672ddee2-ad59-4168-de88-429467789c26",
        "colab": {
          "base_uri": "https://localhost:8080/",
          "height": 545
        }
      },
      "source": [
        "acc = history2.history['categorical_accuracy']\n",
        "val_acc = history2.history['val_categorical_accuracy']\n",
        "loss = history2.history['loss']\n",
        "val_loss = history2.history['val_loss']\n",
        "epochs = range(1, len(acc) + 1)\n",
        "plt.plot(epochs, acc, 'bo', label='Training acc')\n",
        "plt.plot(epochs, val_acc, 'b', label='Validation acc')\n",
        "plt.title('Training and validation accuracy')\n",
        "plt.legend()\n",
        "plt.figure()\n",
        "plt.plot(epochs, loss, 'bo', label='Training loss')\n",
        "plt.plot(epochs, val_loss, 'b', label='Validation loss')\n",
        "plt.title('Training and validation loss')\n",
        "plt.legend()\n",
        "plt.show()"
      ],
      "execution_count": 45,
      "outputs": [
        {
          "output_type": "display_data",
          "data": {
            "image/png": "[encoded data removed]",
            "text/plain": [
              "<Figure size 432x288 with 1 Axes>"
            ]
          },
          "metadata": {
            "tags": [],
            "needs_background": "light"
          }
        },
        {
          "output_type": "display_data",
          "data": {
            "image/png": "[encoded data removed]",
            "text/plain": [
              "<Figure size 432x288 with 1 Axes>"
            ]
          },
          "metadata": {
            "tags": [],
            "needs_background": "light"
          }
        }
      ]
    },
    {
      "cell_type": "markdown",
      "metadata": {
        "id": "YsmpTiK-1oUW"
      },
      "source": [
        "_There is an increment in the categorical acurracy for train and validation set, also a decrease is observed in the overfitting of the new model._"
      ]
    },
    {
      "cell_type": "markdown",
      "metadata": {
        "id": "JybqQMHj1kHT"
      },
      "source": [
        "## New Test"
      ]
    },
    {
      "cell_type": "code",
      "metadata": {
        "id": "DyBU-I6d1i1N",
        "outputId": "fc3db0fa-c7d1-4da4-b97e-03b4cf857ca4",
        "colab": {
          "base_uri": "https://localhost:8080/",
          "height": 204
        }
      },
      "source": [
        "df2_n = pd.read_csv(\"Corona_NLP_test.csv\")\n",
        "df2_n.head()"
      ],
      "execution_count": 46,
      "outputs": [
        {
          "output_type": "execute_result",
          "data": {
            "text/html": [
              "<div>\n",
              "<style scoped>\n",
              "    .dataframe tbody tr th:only-of-type {\n",
              "        vertical-align: middle;\n",
              "    }\n",
              "\n",
              "    .dataframe tbody tr th {\n",
              "        vertical-align: top;\n",
              "    }\n",
              "\n",
              "    .dataframe thead th {\n",
              "        text-align: right;\n",
              "    }\n",
              "</style>\n",
              "<table border=\"1\" class=\"dataframe\">\n",
              "  <thead>\n",
              "    <tr style=\"text-align: right;\">\n",
              "      <th></th>\n",
              "      <th>UserName</th>\n",
              "      <th>ScreenName</th>\n",
              "      <th>Location</th>\n",
              "      <th>TweetAt</th>\n",
              "      <th>OriginalTweet</th>\n",
              "      <th>Sentiment</th>\n",
              "    </tr>\n",
              "  </thead>\n",
              "  <tbody>\n",
              "    <tr>\n",
              "      <th>0</th>\n",
              "      <td>1</td>\n",
              "      <td>44953</td>\n",
              "      <td>NYC</td>\n",
              "      <td>02-03-2020</td>\n",
              "      <td>TRENDING: New Yorkers encounter empty supermar...</td>\n",
              "      <td>Extremely Negative</td>\n",
              "    </tr>\n",
              "    <tr>\n",
              "      <th>1</th>\n",
              "      <td>2</td>\n",
              "      <td>44954</td>\n",
              "      <td>Seattle, WA</td>\n",
              "      <td>02-03-2020</td>\n",
              "      <td>When I couldn't find hand sanitizer at Fred Me...</td>\n",
              "      <td>Positive</td>\n",
              "    </tr>\n",
              "    <tr>\n",
              "      <th>2</th>\n",
              "      <td>3</td>\n",
              "      <td>44955</td>\n",
              "      <td>NaN</td>\n",
              "      <td>02-03-2020</td>\n",
              "      <td>Find out how you can protect yourself and love...</td>\n",
              "      <td>Extremely Positive</td>\n",
              "    </tr>\n",
              "    <tr>\n",
              "      <th>3</th>\n",
              "      <td>4</td>\n",
              "      <td>44956</td>\n",
              "      <td>Chicagoland</td>\n",
              "      <td>02-03-2020</td>\n",
              "      <td>#Panic buying hits #NewYork City as anxious sh...</td>\n",
              "      <td>Negative</td>\n",
              "    </tr>\n",
              "    <tr>\n",
              "      <th>4</th>\n",
              "      <td>5</td>\n",
              "      <td>44957</td>\n",
              "      <td>Melbourne, Victoria</td>\n",
              "      <td>03-03-2020</td>\n",
              "      <td>#toiletpaper #dunnypaper #coronavirus #coronav...</td>\n",
              "      <td>Neutral</td>\n",
              "    </tr>\n",
              "  </tbody>\n",
              "</table>\n",
              "</div>"
            ],
            "text/plain": [
              "   UserName  ...           Sentiment\n",
              "0         1  ...  Extremely Negative\n",
              "1         2  ...            Positive\n",
              "2         3  ...  Extremely Positive\n",
              "3         4  ...            Negative\n",
              "4         5  ...             Neutral\n",
              "\n",
              "[5 rows x 6 columns]"
            ]
          },
          "metadata": {
            "tags": []
          },
          "execution_count": 46
        }
      ]
    },
    {
      "cell_type": "code",
      "metadata": {
        "id": "9lCuFhV32GRC"
      },
      "source": [
        "new_sentiments_test = []\n",
        "for i in df2_n.Sentiment:\n",
        "  if i == \"Extremely Negative\":\n",
        "    new_sentiments_test.append(\"Negative\")\n",
        "  elif i == \"Extremely Positive\":\n",
        "    new_sentiments_test.append(\"Positive\")\n",
        "  else:\n",
        "    new_sentiments_test.append(i)\n",
        "\n",
        "df2_n.Sentiment = np.array(new_sentiments_test)\n",
        "\n",
        "df2_n[\"Sent_Code\"] = [new_sent_dic[x] for x in df2_n.Sentiment]\n",
        "new_Y_test = keras.utils.to_categorical(df2_n.Sent_Code)"
      ],
      "execution_count": 47,
      "outputs": []
    },
    {
      "cell_type": "code",
      "metadata": {
        "id": "GfYSYwf32x47"
      },
      "source": [
        "sequences2_n = tokenizer.texts_to_sequences(df2_n.OriginalTweet)\n",
        "data_test_n = pad_sequences(sequences2_n, maxlen=maxlen)"
      ],
      "execution_count": 48,
      "outputs": []
    },
    {
      "cell_type": "code",
      "metadata": {
        "id": "R8giHSXx3Bow",
        "outputId": "1bdadfb4-b252-4027-d3f2-80f20a93b59c",
        "colab": {
          "base_uri": "https://localhost:8080/"
        }
      },
      "source": [
        "model2.evaluate(data_test_n, new_Y_test)"
      ],
      "execution_count": 49,
      "outputs": [
        {
          "output_type": "stream",
          "text": [
            "119/119 [==============================] - 3s 26ms/step - loss: 0.5359 - categorical_accuracy: 0.8133\n"
          ],
          "name": "stdout"
        },
        {
          "output_type": "execute_result",
          "data": {
            "text/plain": [
              "[0.5358721613883972, 0.8133227825164795]"
            ]
          },
          "metadata": {
            "tags": []
          },
          "execution_count": 49
        }
      ]
    },
    {
      "cell_type": "code",
      "metadata": {
        "id": "OVoBW_o93OjE",
        "outputId": "08662cf1-44ea-4202-dc14-8ef4e4648f31",
        "colab": {
          "base_uri": "https://localhost:8080/",
          "height": 282
        }
      },
      "source": [
        "y_predict_n = model2.predict_classes(data_test_n)\n",
        "sent2 = [\"Neutral\", \"Positive\", \"Negative\"]\n",
        "\n",
        "cm_n = confusion_matrix(df2_n.Sent_Code, y_predict_n)\n",
        "heatmap(cm_n, cmap=\"YlGnBu\", annot = True, fmt=\"d\", xticklabels = sent2, yticklabels = sent2)"
      ],
      "execution_count": 50,
      "outputs": [
        {
          "output_type": "execute_result",
          "data": {
            "text/plain": [
              "<matplotlib.axes._subplots.AxesSubplot at 0x7fea38382978>"
            ]
          },
          "metadata": {
            "tags": []
          },
          "execution_count": 50
        },
        {
          "output_type": "display_data",
          "data": {
            "image/png": "[encoded data removed]",
            "text/plain": [
              "<Figure size 432x288 with 2 Axes>"
            ]
          },
          "metadata": {
            "tags": [],
            "needs_background": "light"
          }
        }
      ]
    },
    {
      "cell_type": "code",
      "metadata": {
        "id": "xB_5u3CbPOme",
        "outputId": "10f17dea-1dcc-439d-e771-c72b01fd4300",
        "colab": {
          "base_uri": "https://localhost:8080/"
        }
      },
      "source": [
        "print(classification_report(df2_n.Sent_Code, y_predict_n))"
      ],
      "execution_count": 51,
      "outputs": [
        {
          "output_type": "stream",
          "text": [
            "              precision    recall  f1-score   support\n",
            "\n",
            "           0       0.72      0.76      0.74       619\n",
            "           1       0.85      0.79      0.82      1546\n",
            "           2       0.82      0.86      0.84      1633\n",
            "\n",
            "    accuracy                           0.81      3798\n",
            "   macro avg       0.80      0.80      0.80      3798\n",
            "weighted avg       0.82      0.81      0.81      3798\n",
            "\n"
          ],
          "name": "stdout"
        }
      ]
    },
    {
      "cell_type": "markdown",
      "metadata": {
        "id": "lMKjobNIPd1m"
      },
      "source": [
        "_We can observe an increase in the classification metrics, with an exception in the neutral category, this category has a 10% decrease in the f1-score campared to thw other two categories. In the next model the neutral category and the stop words will be eliminated to see if the score will increase_"
      ]
    },
    {
      "cell_type": "markdown",
      "metadata": {
        "id": "2xgexMYDQNtx"
      },
      "source": [
        "## Final Model"
      ]
    },
    {
      "cell_type": "code",
      "metadata": {
        "id": "tms0bh-4QLm7",
        "outputId": "917f5e63-48db-44e9-fa54-d4d213f40b21",
        "colab": {
          "base_uri": "https://localhost:8080/",
          "height": 204
        }
      },
      "source": [
        "f_df = pd.read_csv('Corona_NLP_train.csv', encoding = 'latin')\n",
        "# No neutrals\n",
        "f_df = f_df[f_df['Sentiment'] != 'Neutral']\n",
        "f_df.head()"
      ],
      "execution_count": 52,
      "outputs": [
        {
          "output_type": "execute_result",
          "data": {
            "text/html": [
              "<div>\n",
              "<style scoped>\n",
              "    .dataframe tbody tr th:only-of-type {\n",
              "        vertical-align: middle;\n",
              "    }\n",
              "\n",
              "    .dataframe tbody tr th {\n",
              "        vertical-align: top;\n",
              "    }\n",
              "\n",
              "    .dataframe thead th {\n",
              "        text-align: right;\n",
              "    }\n",
              "</style>\n",
              "<table border=\"1\" class=\"dataframe\">\n",
              "  <thead>\n",
              "    <tr style=\"text-align: right;\">\n",
              "      <th></th>\n",
              "      <th>UserName</th>\n",
              "      <th>ScreenName</th>\n",
              "      <th>Location</th>\n",
              "      <th>TweetAt</th>\n",
              "      <th>OriginalTweet</th>\n",
              "      <th>Sentiment</th>\n",
              "    </tr>\n",
              "  </thead>\n",
              "  <tbody>\n",
              "    <tr>\n",
              "      <th>1</th>\n",
              "      <td>3800</td>\n",
              "      <td>48752</td>\n",
              "      <td>UK</td>\n",
              "      <td>16-03-2020</td>\n",
              "      <td>advice Talk to your neighbours family to excha...</td>\n",
              "      <td>Positive</td>\n",
              "    </tr>\n",
              "    <tr>\n",
              "      <th>2</th>\n",
              "      <td>3801</td>\n",
              "      <td>48753</td>\n",
              "      <td>Vagabonds</td>\n",
              "      <td>16-03-2020</td>\n",
              "      <td>Coronavirus Australia: Woolworths to give elde...</td>\n",
              "      <td>Positive</td>\n",
              "    </tr>\n",
              "    <tr>\n",
              "      <th>3</th>\n",
              "      <td>3802</td>\n",
              "      <td>48754</td>\n",
              "      <td>NaN</td>\n",
              "      <td>16-03-2020</td>\n",
              "      <td>My food stock is not the only one which is emp...</td>\n",
              "      <td>Positive</td>\n",
              "    </tr>\n",
              "    <tr>\n",
              "      <th>4</th>\n",
              "      <td>3803</td>\n",
              "      <td>48755</td>\n",
              "      <td>NaN</td>\n",
              "      <td>16-03-2020</td>\n",
              "      <td>Me, ready to go at supermarket during the #COV...</td>\n",
              "      <td>Extremely Negative</td>\n",
              "    </tr>\n",
              "    <tr>\n",
              "      <th>5</th>\n",
              "      <td>3804</td>\n",
              "      <td>48756</td>\n",
              "      <td>ÃT: 36.319708,-82.363649</td>\n",
              "      <td>16-03-2020</td>\n",
              "      <td>As news of the regionÂs first confirmed COVID...</td>\n",
              "      <td>Positive</td>\n",
              "    </tr>\n",
              "  </tbody>\n",
              "</table>\n",
              "</div>"
            ],
            "text/plain": [
              "   UserName  ...           Sentiment\n",
              "1      3800  ...            Positive\n",
              "2      3801  ...            Positive\n",
              "3      3802  ...            Positive\n",
              "4      3803  ...  Extremely Negative\n",
              "5      3804  ...            Positive\n",
              "\n",
              "[5 rows x 6 columns]"
            ]
          },
          "metadata": {
            "tags": []
          },
          "execution_count": 52
        }
      ]
    },
    {
      "cell_type": "markdown",
      "metadata": {
        "id": "7dtZwdFJQ9Lh"
      },
      "source": [
        "## Final Sentiments"
      ]
    },
    {
      "cell_type": "code",
      "metadata": {
        "id": "EI87PT_uQaUY"
      },
      "source": [
        "f_sentiments = []\n",
        "for i in f_df.Sentiment:\n",
        "  if i == \"Extremely Negative\":\n",
        "    f_sentiments.append(\"Negative\")\n",
        "  elif i == \"Extremely Positive\":\n",
        "    f_sentiments.append(\"Positive\")\n",
        "  else:\n",
        "    f_sentiments.append(i)\n",
        "\n",
        "f_df.Sentiment = np.array(f_sentiments)"
      ],
      "execution_count": 53,
      "outputs": []
    },
    {
      "cell_type": "code",
      "metadata": {
        "id": "8lZG6VqwRAja",
        "outputId": "054598f7-c61a-4081-f721-39e1370ffdaa",
        "colab": {
          "base_uri": "https://localhost:8080/"
        }
      },
      "source": [
        "f_df.Sentiment.value_counts()"
      ],
      "execution_count": 54,
      "outputs": [
        {
          "output_type": "execute_result",
          "data": {
            "text/plain": [
              "Positive    18046\n",
              "Negative    15398\n",
              "Name: Sentiment, dtype: int64"
            ]
          },
          "metadata": {
            "tags": []
          },
          "execution_count": 54
        }
      ]
    },
    {
      "cell_type": "markdown",
      "metadata": {
        "id": "dRLaN8EARFE_"
      },
      "source": [
        "## New Preprocessing"
      ]
    },
    {
      "cell_type": "code",
      "metadata": {
        "id": "1i0iLYX0RERG"
      },
      "source": [
        "# Text cleansing\n",
        "clean_t = []\n",
        "\n",
        "# iteration in text\n",
        "for text in f_df['OriginalTweet']:\n",
        "    aux1 = unicodedata.normalize('NFD', text).encode('ascii', 'ignore')\n",
        "    aux2 = re.sub(\"[^a-zA-Z0-9 ]\", \" \", aux1.decode(\"utf-8\"), flags=re.UNICODE)\n",
        "    aux3 = u' '.join(aux2.lower().split())\n",
        "    clean_t.append(aux3)"
      ],
      "execution_count": 55,
      "outputs": []
    },
    {
      "cell_type": "code",
      "metadata": {
        "id": "Fgb5-09rR3sp"
      },
      "source": [
        "# separation of every word in phrase\n",
        "clean_t_2 = []\n",
        "for frase in clean_t:\n",
        "    clean_t_2.append(frase.split(' '))"
      ],
      "execution_count": 56,
      "outputs": []
    },
    {
      "cell_type": "code",
      "metadata": {
        "id": "1t_88D1qSA-u"
      },
      "source": [
        "# stop words\n",
        "stop = stopwords.words('english')\n",
        "clean_f = []\n",
        "for frase in clean_t_2:\n",
        "    aux = []\n",
        "    for w in frase:\n",
        "        if w not in stop:\n",
        "            aux.append(w)\n",
        "    clean_f.append(aux)"
      ],
      "execution_count": 57,
      "outputs": []
    },
    {
      "cell_type": "code",
      "metadata": {
        "id": "xlLLV4VVS6n-"
      },
      "source": [
        "# New clean tweet\n",
        "f_df['OriginalTweet'] = [\" \".join(x) for x in clean_f]"
      ],
      "execution_count": 58,
      "outputs": []
    },
    {
      "cell_type": "code",
      "metadata": {
        "id": "o7upcUiiTPCH",
        "outputId": "caa89cc3-4807-4f8b-d176-eb5974dcc534",
        "colab": {
          "base_uri": "https://localhost:8080/",
          "height": 204
        }
      },
      "source": [
        "f_df.head()"
      ],
      "execution_count": 59,
      "outputs": [
        {
          "output_type": "execute_result",
          "data": {
            "text/html": [
              "<div>\n",
              "<style scoped>\n",
              "    .dataframe tbody tr th:only-of-type {\n",
              "        vertical-align: middle;\n",
              "    }\n",
              "\n",
              "    .dataframe tbody tr th {\n",
              "        vertical-align: top;\n",
              "    }\n",
              "\n",
              "    .dataframe thead th {\n",
              "        text-align: right;\n",
              "    }\n",
              "</style>\n",
              "<table border=\"1\" class=\"dataframe\">\n",
              "  <thead>\n",
              "    <tr style=\"text-align: right;\">\n",
              "      <th></th>\n",
              "      <th>UserName</th>\n",
              "      <th>ScreenName</th>\n",
              "      <th>Location</th>\n",
              "      <th>TweetAt</th>\n",
              "      <th>OriginalTweet</th>\n",
              "      <th>Sentiment</th>\n",
              "    </tr>\n",
              "  </thead>\n",
              "  <tbody>\n",
              "    <tr>\n",
              "      <th>1</th>\n",
              "      <td>3800</td>\n",
              "      <td>48752</td>\n",
              "      <td>UK</td>\n",
              "      <td>16-03-2020</td>\n",
              "      <td>advice talk neighbours family exchange phone n...</td>\n",
              "      <td>Positive</td>\n",
              "    </tr>\n",
              "    <tr>\n",
              "      <th>2</th>\n",
              "      <td>3801</td>\n",
              "      <td>48753</td>\n",
              "      <td>Vagabonds</td>\n",
              "      <td>16-03-2020</td>\n",
              "      <td>coronavirus australia woolworths give elderly ...</td>\n",
              "      <td>Positive</td>\n",
              "    </tr>\n",
              "    <tr>\n",
              "      <th>3</th>\n",
              "      <td>3802</td>\n",
              "      <td>48754</td>\n",
              "      <td>NaN</td>\n",
              "      <td>16-03-2020</td>\n",
              "      <td>food stock one empty please panic enough food ...</td>\n",
              "      <td>Positive</td>\n",
              "    </tr>\n",
              "    <tr>\n",
              "      <th>4</th>\n",
              "      <td>3803</td>\n",
              "      <td>48755</td>\n",
              "      <td>NaN</td>\n",
              "      <td>16-03-2020</td>\n",
              "      <td>ready go supermarket covid19 outbreak paranoid...</td>\n",
              "      <td>Negative</td>\n",
              "    </tr>\n",
              "    <tr>\n",
              "      <th>5</th>\n",
              "      <td>3804</td>\n",
              "      <td>48756</td>\n",
              "      <td>ÃT: 36.319708,-82.363649</td>\n",
              "      <td>16-03-2020</td>\n",
              "      <td>news regionas first confirmed covid 19 case ca...</td>\n",
              "      <td>Positive</td>\n",
              "    </tr>\n",
              "  </tbody>\n",
              "</table>\n",
              "</div>"
            ],
            "text/plain": [
              "   UserName  ...  Sentiment\n",
              "1      3800  ...   Positive\n",
              "2      3801  ...   Positive\n",
              "3      3802  ...   Positive\n",
              "4      3803  ...   Negative\n",
              "5      3804  ...   Positive\n",
              "\n",
              "[5 rows x 6 columns]"
            ]
          },
          "metadata": {
            "tags": []
          },
          "execution_count": 59
        }
      ]
    },
    {
      "cell_type": "code",
      "metadata": {
        "id": "qYDVFTo1TSZu"
      },
      "source": [
        "# Sentiment dictionary\n",
        "\n",
        "f_sent_dic = dict(zip(f_df.Sentiment.unique(), range(len(f_df.Sentiment.unique()))))\n",
        "f_df[\"Sent_Code\"] = [f_sent_dic[x] for x in f_df.Sentiment]\n",
        "f_Y = keras.utils.to_categorical(f_df.Sent_Code)"
      ],
      "execution_count": 60,
      "outputs": []
    },
    {
      "cell_type": "code",
      "metadata": {
        "id": "a6ZasB6ET-fq",
        "outputId": "515cef7d-bc26-4e29-a3d0-5edee9ebba93",
        "colab": {
          "base_uri": "https://localhost:8080/"
        }
      },
      "source": [
        "f_df.shape"
      ],
      "execution_count": 61,
      "outputs": [
        {
          "output_type": "execute_result",
          "data": {
            "text/plain": [
              "(33444, 7)"
            ]
          },
          "metadata": {
            "tags": []
          },
          "execution_count": 61
        }
      ]
    },
    {
      "cell_type": "code",
      "metadata": {
        "id": "E1UwOeBST6qv"
      },
      "source": [
        "maxlen = 100 #max number of word\n",
        "training_samples = 30100 #train in 200\n",
        "validation_samples = 3344 # validates on 10000\n",
        "max_words = 20000 #considers the first 10000 words\n",
        "\n",
        "tokenizer3 = Tokenizer(num_words=max_words)\n",
        "tokenizer3.fit_on_texts(f_df.OriginalTweet)\n",
        "sequences = tokenizer3.texts_to_sequences(f_df.OriginalTweet)"
      ],
      "execution_count": 62,
      "outputs": []
    },
    {
      "cell_type": "code",
      "metadata": {
        "id": "eVhdLAz5UiXT",
        "outputId": "5ea2df87-3129-4022-d34d-afa1319aee21",
        "colab": {
          "base_uri": "https://localhost:8080/"
        }
      },
      "source": [
        "word_index = tokenizer3.word_index\n",
        "print('Found %s unique tokens.' % len(word_index))\n",
        "data = pad_sequences(sequences, maxlen=maxlen)"
      ],
      "execution_count": 63,
      "outputs": [
        {
          "output_type": "stream",
          "text": [
            "Found 68135 unique tokens.\n"
          ],
          "name": "stdout"
        }
      ]
    },
    {
      "cell_type": "code",
      "metadata": {
        "id": "jfmTiECJUpru",
        "outputId": "ad44326f-cc33-4188-cef5-3469c354db09",
        "colab": {
          "base_uri": "https://localhost:8080/"
        }
      },
      "source": [
        "labels = np.asarray(f_Y)\n",
        "print('Shape of data tensor:', data.shape)\n",
        "print('Shape of label tensor:', labels.shape)"
      ],
      "execution_count": 64,
      "outputs": [
        {
          "output_type": "stream",
          "text": [
            "Shape of data tensor: (33444, 100)\n",
            "Shape of label tensor: (33444, 2)\n"
          ],
          "name": "stdout"
        }
      ]
    },
    {
      "cell_type": "code",
      "metadata": {
        "id": "9Yz1TYIZU5Rk"
      },
      "source": [
        "# shuffle\n",
        "f_indices = np.arange(data.shape[0])\n",
        "np.random.shuffle(f_indices)\n",
        "data = data[f_indices]\n",
        "labels = labels[f_indices]\n",
        "\n",
        "f_x_train = data[:training_samples]\n",
        "f_y_train = labels[:training_samples]\n",
        "f_x_val = data[training_samples: training_samples + validation_samples]\n",
        "f_y_val = labels[training_samples: training_samples + validation_samples]"
      ],
      "execution_count": 65,
      "outputs": []
    },
    {
      "cell_type": "markdown",
      "metadata": {
        "id": "j2-ikQ1vVbEU"
      },
      "source": [
        "# Embedding"
      ]
    },
    {
      "cell_type": "code",
      "metadata": {
        "id": "QqmtAq0PVc_x"
      },
      "source": [
        "myfile9 = drive.CreateFile({'id': '1JT5s4yhAcSfGvgWVKf57QkoMTM72zrSF'})\n",
        "myfile9.GetContentFile('glove.6B.100d.txt')"
      ],
      "execution_count": 66,
      "outputs": []
    },
    {
      "cell_type": "code",
      "metadata": {
        "id": "i-gmZov-VgE1",
        "outputId": "86ec7c74-2734-4745-8ece-2092b3158fd0",
        "colab": {
          "base_uri": "https://localhost:8080/"
        }
      },
      "source": [
        "embeddings_index = {}\n",
        "f = open('glove.6B.100d.txt', encoding=\"utf8\")\n",
        "\n",
        "for line in f:\n",
        "    values = line.split()\n",
        "    word = values[0]\n",
        "    coefs = np.asarray(values[1:], dtype='float32')\n",
        "    embeddings_index[word] = coefs\n",
        "    \n",
        "f.close()\n",
        "print('Found %s word vectors.' % len(embeddings_index))"
      ],
      "execution_count": 67,
      "outputs": [
        {
          "output_type": "stream",
          "text": [
            "Found 400000 word vectors.\n"
          ],
          "name": "stdout"
        }
      ]
    },
    {
      "cell_type": "code",
      "metadata": {
        "id": "KXWM551tVpY-"
      },
      "source": [
        "embedding_dim = 100\n",
        "embedding_matrix = np.zeros((max_words, embedding_dim))\n",
        "for word, i in word_index.items():\n",
        "    if i < max_words:\n",
        "        embedding_vector = embeddings_index.get(word)\n",
        "        if embedding_vector is not None:\n",
        "            embedding_matrix[i] = embedding_vector"
      ],
      "execution_count": 68,
      "outputs": []
    },
    {
      "cell_type": "markdown",
      "metadata": {
        "id": "oX_xXizRV5v8"
      },
      "source": [
        "## Neural Network"
      ]
    },
    {
      "cell_type": "code",
      "metadata": {
        "id": "FMu-w0yVV2F9",
        "outputId": "f7f588da-f5b2-4f11-c8e6-a29282ee78c8",
        "colab": {
          "base_uri": "https://localhost:8080/"
        }
      },
      "source": [
        "embedding_dim = 100\n",
        "model3 = Sequential()\n",
        "model3.add(Embedding(max_words, embedding_dim, input_length=maxlen))\n",
        "model3.add(GRU(64, dropout = 0.1, recurrent_dropout = 0.3, return_sequences = True))\n",
        "model3.add(LSTM(64))\n",
        "model3.add(Dense(32, activation='relu'))\n",
        "model3.add(Dropout(.2))\n",
        "model3.add(Dense(2, activation='sigmoid'))\n",
        "model3.summary()"
      ],
      "execution_count": 69,
      "outputs": [
        {
          "output_type": "stream",
          "text": [
            "WARNING:tensorflow:Layer gru_2 will not use cuDNN kernel since it doesn't meet the cuDNN kernel criteria. It will use generic GPU kernel as fallback when running on GPU\n",
            "Model: \"sequential_2\"\n",
            "_________________________________________________________________\n",
            "Layer (type)                 Output Shape              Param #   \n",
            "=================================================================\n",
            "embedding_2 (Embedding)      (None, 100, 100)          2000000   \n",
            "_________________________________________________________________\n",
            "gru_2 (GRU)                  (None, 100, 64)           31872     \n",
            "_________________________________________________________________\n",
            "lstm_2 (LSTM)                (None, 64)                33024     \n",
            "_________________________________________________________________\n",
            "dense_5 (Dense)              (None, 32)                2080      \n",
            "_________________________________________________________________\n",
            "dropout_3 (Dropout)          (None, 32)                0         \n",
            "_________________________________________________________________\n",
            "dense_6 (Dense)              (None, 2)                 66        \n",
            "=================================================================\n",
            "Total params: 2,067,042\n",
            "Trainable params: 2,067,042\n",
            "Non-trainable params: 0\n",
            "_________________________________________________________________\n"
          ],
          "name": "stdout"
        }
      ]
    },
    {
      "cell_type": "code",
      "metadata": {
        "id": "LGxsFU5KV-3f"
      },
      "source": [
        "model3.layers[0].set_weights([embedding_matrix])\n",
        "model3.layers[0].trainable = False"
      ],
      "execution_count": 70,
      "outputs": []
    },
    {
      "cell_type": "code",
      "metadata": {
        "id": "GWqaD2CGWEPH",
        "outputId": "c84d8602-c460-4f91-a002-882b58a7a43d",
        "colab": {
          "base_uri": "https://localhost:8080/"
        }
      },
      "source": [
        "model3.compile(optimizer='adam', loss='categorical_crossentropy', metrics=['categorical_accuracy'])\n",
        "history3 = model3.fit(f_x_train, f_y_train, epochs=15, batch_size=128, validation_data=(f_x_val, f_y_val))"
      ],
      "execution_count": 71,
      "outputs": [
        {
          "output_type": "stream",
          "text": [
            "Epoch 1/15\n",
            "236/236 [==============================] - 72s 303ms/step - loss: 0.5514 - categorical_accuracy: 0.7183 - val_loss: 0.4840 - val_categorical_accuracy: 0.7664\n",
            "Epoch 2/15\n",
            "236/236 [==============================] - 69s 294ms/step - loss: 0.4553 - categorical_accuracy: 0.7884 - val_loss: 0.4358 - val_categorical_accuracy: 0.7975\n",
            "Epoch 3/15\n",
            "236/236 [==============================] - 69s 291ms/step - loss: 0.4218 - categorical_accuracy: 0.8068 - val_loss: 0.4152 - val_categorical_accuracy: 0.8104\n",
            "Epoch 4/15\n",
            "236/236 [==============================] - 69s 294ms/step - loss: 0.4046 - categorical_accuracy: 0.8201 - val_loss: 0.4098 - val_categorical_accuracy: 0.8113\n",
            "Epoch 5/15\n",
            "236/236 [==============================] - 71s 299ms/step - loss: 0.3819 - categorical_accuracy: 0.8297 - val_loss: 0.4189 - val_categorical_accuracy: 0.8020\n",
            "Epoch 6/15\n",
            "236/236 [==============================] - 69s 292ms/step - loss: 0.3666 - categorical_accuracy: 0.8371 - val_loss: 0.3828 - val_categorical_accuracy: 0.8286\n",
            "Epoch 7/15\n",
            "236/236 [==============================] - 70s 295ms/step - loss: 0.3510 - categorical_accuracy: 0.8464 - val_loss: 0.3695 - val_categorical_accuracy: 0.8316\n",
            "Epoch 8/15\n",
            "236/236 [==============================] - 70s 298ms/step - loss: 0.3354 - categorical_accuracy: 0.8552 - val_loss: 0.3857 - val_categorical_accuracy: 0.8167\n",
            "Epoch 9/15\n",
            "236/236 [==============================] - 69s 293ms/step - loss: 0.3265 - categorical_accuracy: 0.8587 - val_loss: 0.3717 - val_categorical_accuracy: 0.8364\n",
            "Epoch 10/15\n",
            "236/236 [==============================] - 69s 292ms/step - loss: 0.3108 - categorical_accuracy: 0.8676 - val_loss: 0.3657 - val_categorical_accuracy: 0.8403\n",
            "Epoch 11/15\n",
            "236/236 [==============================] - 68s 290ms/step - loss: 0.2979 - categorical_accuracy: 0.8733 - val_loss: 0.3703 - val_categorical_accuracy: 0.8394\n",
            "Epoch 12/15\n",
            "236/236 [==============================] - 69s 293ms/step - loss: 0.2886 - categorical_accuracy: 0.8769 - val_loss: 0.3778 - val_categorical_accuracy: 0.8346\n",
            "Epoch 13/15\n",
            "236/236 [==============================] - 71s 300ms/step - loss: 0.2791 - categorical_accuracy: 0.8814 - val_loss: 0.3636 - val_categorical_accuracy: 0.8436\n",
            "Epoch 14/15\n",
            "236/236 [==============================] - 73s 308ms/step - loss: 0.2697 - categorical_accuracy: 0.8863 - val_loss: 0.3615 - val_categorical_accuracy: 0.8439\n",
            "Epoch 15/15\n",
            "236/236 [==============================] - 71s 300ms/step - loss: 0.2617 - categorical_accuracy: 0.8922 - val_loss: 0.4000 - val_categorical_accuracy: 0.8236\n"
          ],
          "name": "stdout"
        }
      ]
    },
    {
      "cell_type": "code",
      "metadata": {
        "id": "_P6iXuJfdChb",
        "outputId": "8ea87b2b-0525-488b-8a1c-a2f2d2ccd878",
        "colab": {
          "base_uri": "https://localhost:8080/",
          "height": 545
        }
      },
      "source": [
        "acc = history3.history['categorical_accuracy']\n",
        "val_acc = history3.history['val_categorical_accuracy']\n",
        "loss = history3.history['loss']\n",
        "val_loss = history3.history['val_loss']\n",
        "epochs = range(1, len(acc) + 1)\n",
        "plt.plot(epochs, acc, 'bo', label='Training acc')\n",
        "plt.plot(epochs, val_acc, 'b', label='Validation acc')\n",
        "plt.title('Training and validation accuracy')\n",
        "plt.legend()\n",
        "plt.figure()\n",
        "plt.plot(epochs, loss, 'bo', label='Training loss')\n",
        "plt.plot(epochs, val_loss, 'b', label='Validation loss')\n",
        "plt.title('Training and validation loss')\n",
        "plt.legend()\n",
        "plt.show()"
      ],
      "execution_count": 72,
      "outputs": [
        {
          "output_type": "display_data",
          "data": {
            "image/png": "[encoded data removed]",
            "text/plain": [
              "<Figure size 432x288 with 1 Axes>"
            ]
          },
          "metadata": {
            "tags": [],
            "needs_background": "light"
          }
        },
        {
          "output_type": "display_data",
          "data": {
            "image/png": "[encoded data removed]",
            "text/plain": [
              "<Figure size 432x288 with 1 Axes>"
            ]
          },
          "metadata": {
            "tags": [],
            "needs_background": "light"
          }
        }
      ]
    },
    {
      "cell_type": "markdown",
      "metadata": {
        "id": "xJSEc3A_dTVE"
      },
      "source": [
        "## Final Test"
      ]
    },
    {
      "cell_type": "code",
      "metadata": {
        "id": "D5mGtxdodIXH",
        "outputId": "ec0b0daf-3e44-4bad-94d5-b457514d424b",
        "colab": {
          "base_uri": "https://localhost:8080/",
          "height": 204
        }
      },
      "source": [
        "df2_n = pd.read_csv(\"Corona_NLP_test.csv\")\n",
        "df2_n = df2_n[df2_n['Sentiment'] != 'Neutral']\n",
        "df2_n.head()"
      ],
      "execution_count": 73,
      "outputs": [
        {
          "output_type": "execute_result",
          "data": {
            "text/html": [
              "<div>\n",
              "<style scoped>\n",
              "    .dataframe tbody tr th:only-of-type {\n",
              "        vertical-align: middle;\n",
              "    }\n",
              "\n",
              "    .dataframe tbody tr th {\n",
              "        vertical-align: top;\n",
              "    }\n",
              "\n",
              "    .dataframe thead th {\n",
              "        text-align: right;\n",
              "    }\n",
              "</style>\n",
              "<table border=\"1\" class=\"dataframe\">\n",
              "  <thead>\n",
              "    <tr style=\"text-align: right;\">\n",
              "      <th></th>\n",
              "      <th>UserName</th>\n",
              "      <th>ScreenName</th>\n",
              "      <th>Location</th>\n",
              "      <th>TweetAt</th>\n",
              "      <th>OriginalTweet</th>\n",
              "      <th>Sentiment</th>\n",
              "    </tr>\n",
              "  </thead>\n",
              "  <tbody>\n",
              "    <tr>\n",
              "      <th>0</th>\n",
              "      <td>1</td>\n",
              "      <td>44953</td>\n",
              "      <td>NYC</td>\n",
              "      <td>02-03-2020</td>\n",
              "      <td>TRENDING: New Yorkers encounter empty supermar...</td>\n",
              "      <td>Extremely Negative</td>\n",
              "    </tr>\n",
              "    <tr>\n",
              "      <th>1</th>\n",
              "      <td>2</td>\n",
              "      <td>44954</td>\n",
              "      <td>Seattle, WA</td>\n",
              "      <td>02-03-2020</td>\n",
              "      <td>When I couldn't find hand sanitizer at Fred Me...</td>\n",
              "      <td>Positive</td>\n",
              "    </tr>\n",
              "    <tr>\n",
              "      <th>2</th>\n",
              "      <td>3</td>\n",
              "      <td>44955</td>\n",
              "      <td>NaN</td>\n",
              "      <td>02-03-2020</td>\n",
              "      <td>Find out how you can protect yourself and love...</td>\n",
              "      <td>Extremely Positive</td>\n",
              "    </tr>\n",
              "    <tr>\n",
              "      <th>3</th>\n",
              "      <td>4</td>\n",
              "      <td>44956</td>\n",
              "      <td>Chicagoland</td>\n",
              "      <td>02-03-2020</td>\n",
              "      <td>#Panic buying hits #NewYork City as anxious sh...</td>\n",
              "      <td>Negative</td>\n",
              "    </tr>\n",
              "    <tr>\n",
              "      <th>6</th>\n",
              "      <td>7</td>\n",
              "      <td>44959</td>\n",
              "      <td>NaN</td>\n",
              "      <td>03-03-2020</td>\n",
              "      <td>Voting in the age of #coronavirus = hand sanit...</td>\n",
              "      <td>Positive</td>\n",
              "    </tr>\n",
              "  </tbody>\n",
              "</table>\n",
              "</div>"
            ],
            "text/plain": [
              "   UserName  ...           Sentiment\n",
              "0         1  ...  Extremely Negative\n",
              "1         2  ...            Positive\n",
              "2         3  ...  Extremely Positive\n",
              "3         4  ...            Negative\n",
              "6         7  ...            Positive\n",
              "\n",
              "[5 rows x 6 columns]"
            ]
          },
          "metadata": {
            "tags": []
          },
          "execution_count": 73
        }
      ]
    },
    {
      "cell_type": "markdown",
      "metadata": {
        "id": "3oNbhyDMeEsT"
      },
      "source": [
        "## Final Preprocessing"
      ]
    },
    {
      "cell_type": "code",
      "metadata": {
        "id": "XmrBMWL2dw-6"
      },
      "source": [
        "new_sentiments_test = []\n",
        "for i in df2_n.Sentiment:\n",
        "  if i == \"Extremely Negative\":\n",
        "    new_sentiments_test.append(\"Negative\")\n",
        "  elif i == \"Extremely Positive\":\n",
        "    new_sentiments_test.append(\"Positive\")\n",
        "  else:\n",
        "    new_sentiments_test.append(i)\n",
        "\n",
        "df2_n.Sentiment = np.array(new_sentiments_test)\n",
        "\n",
        "df2_n[\"Sent_Code\"] = [f_sent_dic[x] for x in df2_n.Sentiment]\n",
        "new_Y_test = keras.utils.to_categorical(df2_n.Sent_Code)"
      ],
      "execution_count": 74,
      "outputs": []
    },
    {
      "cell_type": "code",
      "metadata": {
        "id": "uW8voZ-TeUKK"
      },
      "source": [
        "# Text cleansing\n",
        "clean2_t = []\n",
        "\n",
        "# iteration in text\n",
        "for text in df2_n['OriginalTweet']:\n",
        "    aux1 = unicodedata.normalize('NFD', text).encode('ascii', 'ignore')\n",
        "    aux2 = re.sub(\"[^a-zA-Z0-9 ]\", \" \", aux1.decode(\"utf-8\"), flags=re.UNICODE)\n",
        "    aux3 = u' '.join(aux2.lower().split())\n",
        "    clean2_t.append(aux3)"
      ],
      "execution_count": 75,
      "outputs": []
    },
    {
      "cell_type": "code",
      "metadata": {
        "id": "xLBKSniaelT0"
      },
      "source": [
        "# separation of every word in phrase\n",
        "clean2_t_2 = []\n",
        "for frase in clean2_t:\n",
        "    clean2_t_2.append(frase.split(' '))"
      ],
      "execution_count": 76,
      "outputs": []
    },
    {
      "cell_type": "code",
      "metadata": {
        "id": "B3tftPMVeshw"
      },
      "source": [
        "# stop words\n",
        "stop = stopwords.words('english')\n",
        "clean2_f = []\n",
        "for frase in clean2_t_2:\n",
        "    aux = []\n",
        "    for w in frase:\n",
        "        if w not in stop:\n",
        "            aux.append(w)\n",
        "    clean2_f.append(aux)"
      ],
      "execution_count": 77,
      "outputs": []
    },
    {
      "cell_type": "code",
      "metadata": {
        "id": "rsy7Suute0Mn"
      },
      "source": [
        "# New clean tweet\n",
        "df2_n['OriginalTweet'] = [\" \".join(x) for x in clean2_f]"
      ],
      "execution_count": 78,
      "outputs": []
    },
    {
      "cell_type": "code",
      "metadata": {
        "id": "SwUHo7-lZVDM"
      },
      "source": [
        "sequences2_n_f = tokenizer3.texts_to_sequences(df2_n.OriginalTweet)\n",
        "data_test_n_f = pad_sequences(sequences2_n_f, maxlen=maxlen)"
      ],
      "execution_count": 79,
      "outputs": []
    },
    {
      "cell_type": "code",
      "metadata": {
        "id": "ZytRjrO2aJJ-",
        "outputId": "3f61bafb-c471-43d5-ea4e-f65258f3a97f",
        "colab": {
          "base_uri": "https://localhost:8080/"
        }
      },
      "source": [
        "model3.evaluate(data_test_n_f, new_Y_test)"
      ],
      "execution_count": 80,
      "outputs": [
        {
          "output_type": "stream",
          "text": [
            "100/100 [==============================] - 3s 31ms/step - loss: 0.4084 - categorical_accuracy: 0.8235\n"
          ],
          "name": "stdout"
        },
        {
          "output_type": "execute_result",
          "data": {
            "text/plain": [
              "[0.4083879292011261, 0.8235294222831726]"
            ]
          },
          "metadata": {
            "tags": []
          },
          "execution_count": 80
        }
      ]
    },
    {
      "cell_type": "code",
      "metadata": {
        "id": "E5JhMbr7aOLh",
        "outputId": "b91a0c43-9b11-45c8-88a2-4f8daa531d44",
        "colab": {
          "base_uri": "https://localhost:8080/",
          "height": 282
        }
      },
      "source": [
        "y_predict_n_f = model3.predict_classes(data_test_n_f)\n",
        "sent2_f = [\"Positive\", \"Negative\"]\n",
        "\n",
        "cm_n_f = confusion_matrix(df2_n.Sent_Code, y_predict_n_f)\n",
        "heatmap(cm_n_f, cmap=\"YlGnBu\", annot = True, fmt=\"d\", xticklabels = sent2_f, yticklabels = sent2_f)"
      ],
      "execution_count": 81,
      "outputs": [
        {
          "output_type": "execute_result",
          "data": {
            "text/plain": [
              "<matplotlib.axes._subplots.AxesSubplot at 0x7fea1c29f0f0>"
            ]
          },
          "metadata": {
            "tags": []
          },
          "execution_count": 81
        },
        {
          "output_type": "display_data",
          "data": {
            "image/png": "[encoded data removed]",
            "text/plain": [
              "<Figure size 432x288 with 2 Axes>"
            ]
          },
          "metadata": {
            "tags": [],
            "needs_background": "light"
          }
        }
      ]
    },
    {
      "cell_type": "code",
      "metadata": {
        "id": "h9egN5Kcascy",
        "outputId": "ca5fa0e5-cf35-46d8-ac53-18193cbaf860",
        "colab": {
          "base_uri": "https://localhost:8080/"
        }
      },
      "source": [
        "print(classification_report(df2_n.Sent_Code, y_predict_n_f))"
      ],
      "execution_count": 82,
      "outputs": [
        {
          "output_type": "stream",
          "text": [
            "              precision    recall  f1-score   support\n",
            "\n",
            "           0       0.89      0.73      0.80      1546\n",
            "           1       0.78      0.91      0.84      1633\n",
            "\n",
            "    accuracy                           0.82      3179\n",
            "   macro avg       0.83      0.82      0.82      3179\n",
            "weighted avg       0.83      0.82      0.82      3179\n",
            "\n"
          ],
          "name": "stdout"
        }
      ]
    },
    {
      "cell_type": "code",
      "metadata": {
        "id": "Lhv8Z-Oz0x4J"
      },
      "source": [
        "df_show = pd.read_csv('Corona_NLP_test.csv')\n",
        "df_show = df_show[df_show['Sentiment'] != 'Neutral']\n",
        "\n",
        "dict_change = dict(zip(f_sent_dic.values(), f_sent_dic.keys()))\n",
        "df_show['Predict'] = [dict_change[x] for x in y_predict_n_f]"
      ],
      "execution_count": 96,
      "outputs": []
    },
    {
      "cell_type": "code",
      "metadata": {
        "id": "gSIEIbn72eY1",
        "outputId": "3971c5ae-fb7c-4f24-f449-64c8ec1f9c2c",
        "colab": {
          "base_uri": "https://localhost:8080/"
        }
      },
      "source": [
        "id_2 = np.random.randint(0, df_show.shape[0])\n",
        "print(df_show.iloc[id_2, 4])\n",
        "print(df_show.iloc[id_2, -1])"
      ],
      "execution_count": 122,
      "outputs": [
        {
          "output_type": "stream",
          "text": [
            "My local IGA supermarket has a 2 can limit on dog food now, is this gonna be another toilet roll hoarding saga ??\r\r\n",
            "#coronavirusaustralia #Covid_19 #COVID?19 #dogs #aupol #MSM  # ridiculous\n",
            "Negative\n"
          ],
          "name": "stdout"
        }
      ]
    }
  ]
}